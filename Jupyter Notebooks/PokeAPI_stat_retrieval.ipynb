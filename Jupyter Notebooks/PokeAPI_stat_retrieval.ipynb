{
 "cells": [
  {
   "cell_type": "markdown",
   "id": "9d161855",
   "metadata": {},
   "source": [
    "## Midterm Project - API Request"
   ]
  },
  {
   "cell_type": "code",
   "execution_count": 4,
   "id": "1bc50b6b",
   "metadata": {},
   "outputs": [],
   "source": [
    "# Libraries\n",
    "import requests\n",
    "import csv\n",
    "import os\n",
    "\n",
    "# Not used yet, but imported for possible later use\n",
    "import json\n",
    "import pandas as pd"
   ]
  },
  {
   "cell_type": "markdown",
   "id": "858bfb35",
   "metadata": {},
   "source": [
    "#### API Call & CSV Creation Function"
   ]
  },
  {
   "cell_type": "code",
   "execution_count": 5,
   "id": "4808ec53",
   "metadata": {},
   "outputs": [],
   "source": [
    "# Use prior knowledge to create data slices, separating batches into distinct \"generations\"\n",
    "generations = [\n",
    "    range(1, 152),    # Gen 1\n",
    "    range(152, 252),  # Gen 2\n",
    "    range(252, 387),  # Gen 3\n",
    "    range(387, 494),  # Gen 4\n",
    "    range(494, 650),  # Gen 5\n",
    "    range(650, 722),  # Gen 6\n",
    "    range(722, 810),  # Gen 7\n",
    "    range(810, 906),  # Gen 8\n",
    "    range(906, 1011)  # Gen 9\n",
    "]\n",
    "\n",
    "# This has been updated to include a totalstat column for setting up a simple model\n",
    "# This is a large function that could be split into smaller functions, but for now, \n",
    "# we'll keep it as is\n",
    "def generate_poke_csv(gen_val):\n",
    "    try:\n",
    "        gen = generations[gen_val - 1]\n",
    "    except IndexError:\n",
    "        print(f\"Invalid generation number: {gen_val}\")\n",
    "        return\n",
    "\n",
    "    pokemon_traits = []\n",
    "\n",
    "    for pokemon_id in gen:\n",
    "        url = f\"https://pokeapi.co/api/v2/pokemon/{pokemon_id}\"\n",
    "        response = requests.get(url)\n",
    "        pokemon_data = response.json()\n",
    "\n",
    "        stats = {}\n",
    "        ptypes = {\"type_1\": \"\", \"type_2\": \"\"}  # Left blank rather than written as null values, so we can demonstrate cleaning techniques\n",
    "\n",
    "        for stat in pokemon_data[\"stats\"]:\n",
    "            stat_name = stat[\"stat\"][\"name\"]\n",
    "            base_stat = stat[\"base_stat\"]\n",
    "            stats[stat_name] = base_stat\n",
    "\n",
    "        for ptype in pokemon_data[\"types\"]:\n",
    "            type_name = f\"type_{ptype['slot']}\"\n",
    "            type_entry = ptype[\"type\"][\"name\"]\n",
    "            ptypes[type_name] = type_entry\n",
    "\n",
    "        joint_t = {**stats, **ptypes, \"Pokemon\": pokemon_data[\"name\"]}\n",
    "        pokemon_traits.append(joint_t)\n",
    "\n",
    "    # Add the 'totalstat' column to each trait\n",
    "    for traits in pokemon_traits:\n",
    "        stat_values = [traits[stat_name] for stat_name in [\"hp\", \"attack\", \"defense\", \"special-attack\", \"special-defense\", \"speed\"]]\n",
    "        total_stat = sum(stat_values)\n",
    "        traits[\"totalstat\"] = total_stat\n",
    "\n",
    "    # Write the stats to the CSV file\n",
    "    output_file = f\"../data/gen{gen_val}_pokemon_stats.csv\"\n",
    "    with open(output_file, \"w\", newline=\"\") as file:\n",
    "        writer = csv.DictWriter(file, fieldnames=pokemon_traits[0].keys())\n",
    "        writer.writeheader()\n",
    "        writer.writerows(pokemon_traits)\n"
   ]
  },
  {
   "cell_type": "markdown",
   "id": "63167dae",
   "metadata": {},
   "source": [
    "#### Create Directory and Function Calls"
   ]
  },
  {
   "cell_type": "code",
   "execution_count": 6,
   "id": "42a85b81",
   "metadata": {},
   "outputs": [],
   "source": [
    "# Make parent subdirectory if it doesn't exist, else don't\n",
    "try:\n",
    "    os.mkdir('../data/')\n",
    "except FileExistsError:\n",
    "    pass\n",
    "\n",
    "# Variable = generation number, which is adjusted in-function to grab correct data\n",
    "# (i.e. gen2 = 2, rather than gen2 = 1); limits human error\n",
    "generate_poke_csv(1)\n",
    "generate_poke_csv(2)\n",
    "generate_poke_csv(3)\n",
    "generate_poke_csv(4)\n",
    "generate_poke_csv(5)\n",
    "generate_poke_csv(6)\n",
    "generate_poke_csv(7)\n",
    "generate_poke_csv(8)\n",
    "generate_poke_csv(9)"
   ]
  }
 ],
 "metadata": {
  "kernelspec": {
   "display_name": "Python 3 (ipykernel)",
   "language": "python",
   "name": "python3"
  },
  "language_info": {
   "codemirror_mode": {
    "name": "ipython",
    "version": 3
   },
   "file_extension": ".py",
   "mimetype": "text/x-python",
   "name": "python",
   "nbconvert_exporter": "python",
   "pygments_lexer": "ipython3",
   "version": "3.10.9"
  }
 },
 "nbformat": 4,
 "nbformat_minor": 5
}
