{
 "cells": [
  {
   "cell_type": "markdown",
   "id": "b2ed67de",
   "metadata": {},
   "source": [
    "## Midterm Project - EDA Demo & Cleanup"
   ]
  },
  {
   "cell_type": "code",
   "execution_count": 160,
   "id": "0dd53fa6",
   "metadata": {},
   "outputs": [],
   "source": [
    "# Libraries\n",
    "import os\n",
    "import pandas as pd\n",
    "import numpy as np\n",
    "\n",
    "# Plotting\n",
    "import seaborn as sns\n",
    "import plotly.express as px\n",
    "\n",
    "# Not used yet, but imported for possible later use\n",
    "import json"
   ]
  },
  {
   "cell_type": "markdown",
   "id": "84d696a9",
   "metadata": {},
   "source": [
    "#### Central Function(s) & Joint DataFrame Creation"
   ]
  },
  {
   "cell_type": "code",
   "execution_count": 161,
   "id": "0ab19834",
   "metadata": {},
   "outputs": [],
   "source": [
    "# Load CSV based on generation number; return error message for invalid val\n",
    "def load_poke_csv(gen_val):\n",
    "    try:\n",
    "        gen_df = pd.read_csv(f'../data/gen{gen_val}_pokemon_stats.csv', sep=',')\n",
    "    except FileNotFoundError:\n",
    "        print(f\"Invalid generation number: {gen_val}\")\n",
    "        return\n",
    "    return gen_df"
   ]
  },
  {
   "cell_type": "code",
   "execution_count": 247,
   "id": "c35e2a44",
   "metadata": {},
   "outputs": [
    {
     "name": "stdout",
     "output_type": "stream",
     "text": [
      "      hp  attack  defense  special-attack  special-defense  speed    type_1  \\\n",
      "0     45      49       49              65               65     45     grass   \n",
      "1     60      62       63              80               80     60     grass   \n",
      "2     80      82       83             100              100     80     grass   \n",
      "3     39      52       43              60               50     65      fire   \n",
      "4     58      64       58              80               65     80      fire   \n",
      "..   ...     ...      ...             ...              ...    ...       ...   \n",
      "100   74     130       90             120               60    116     fairy   \n",
      "101  100     135      115              85              100    135  fighting   \n",
      "102  100      85      100             135              115    135  electric   \n",
      "103   99      83       91             125               83    109     water   \n",
      "104   90     130       88              70              108    104     grass   \n",
      "\n",
      "       type_2       Pokemon  totalstat  generation  \n",
      "0      poison     bulbasaur        318           1  \n",
      "1      poison       ivysaur        405           1  \n",
      "2      poison      venusaur        525           1  \n",
      "3         NaN    charmander        309           1  \n",
      "4         NaN    charmeleon        405           1  \n",
      "..        ...           ...        ...         ...  \n",
      "100  fighting  iron-valiant        590           9  \n",
      "101    dragon      koraidon        670           9  \n",
      "102    dragon      miraidon        670           9  \n",
      "103    dragon  walking-wake        590           9  \n",
      "104   psychic   iron-leaves        590           9  \n",
      "\n",
      "[1010 rows x 11 columns]\n"
     ]
    }
   ],
   "source": [
    "# Load CSV into DataFrame\n",
    "gen1_df = load_poke_csv(1)\n",
    "gen2_df = load_poke_csv(2)\n",
    "gen3_df = load_poke_csv(3)\n",
    "gen4_df = load_poke_csv(4)\n",
    "gen5_df = load_poke_csv(5)\n",
    "gen6_df = load_poke_csv(6)\n",
    "gen7_df = load_poke_csv(7)\n",
    "gen8_df = load_poke_csv(8)\n",
    "gen9_df = load_poke_csv(9)\n",
    "\n",
    "# Add \"generation\" column to each CSV, allowing data to be distinguished inside final DF\n",
    "gen1_df['generation'] = 1\n",
    "gen2_df['generation'] = 2  \n",
    "gen3_df['generation'] = 3  \n",
    "gen4_df['generation'] = 4  \n",
    "gen5_df['generation'] = 5  \n",
    "gen6_df['generation'] = 6  \n",
    "gen7_df['generation'] = 7  \n",
    "gen8_df['generation'] = 8  \n",
    "gen9_df['generation'] = 9\n",
    "\n",
    "# Join all DFs together\n",
    "fullgen_df = pd.concat([gen1_df, \n",
    "                       gen2_df, \n",
    "                       gen3_df, \n",
    "                       gen4_df, \n",
    "                       gen5_df, \n",
    "                       gen6_df, \n",
    "                       gen7_df, \n",
    "                       gen8_df, \n",
    "                       gen9_df])\n",
    "print(fullgen_df)\n"
   ]
  },
  {
   "cell_type": "code",
   "execution_count": 248,
   "id": "32d755d1",
   "metadata": {},
   "outputs": [
    {
     "name": "stdout",
     "output_type": "stream",
     "text": [
      "<class 'pandas.core.frame.DataFrame'>\n",
      "Int64Index: 1010 entries, 0 to 104\n",
      "Data columns (total 11 columns):\n",
      " #   Column           Non-Null Count  Dtype \n",
      "---  ------           --------------  ----- \n",
      " 0   hp               1010 non-null   int64 \n",
      " 1   attack           1010 non-null   int64 \n",
      " 2   defense          1010 non-null   int64 \n",
      " 3   special-attack   1010 non-null   int64 \n",
      " 4   special-defense  1010 non-null   int64 \n",
      " 5   speed            1010 non-null   int64 \n",
      " 6   type_1           1010 non-null   object\n",
      " 7   type_2           513 non-null    object\n",
      " 8   Pokemon          1010 non-null   object\n",
      " 9   totalstat        1010 non-null   int64 \n",
      " 10  generation       1010 non-null   int64 \n",
      "dtypes: int64(8), object(3)\n",
      "memory usage: 94.7+ KB\n"
     ]
    }
   ],
   "source": [
    "# Get info for new DF:\n",
    "fullgen_df.info()"
   ]
  },
  {
   "cell_type": "code",
   "execution_count": 249,
   "id": "00117573",
   "metadata": {},
   "outputs": [
    {
     "data": {
      "text/plain": [
       "(1010, 11)"
      ]
     },
     "execution_count": 249,
     "metadata": {},
     "output_type": "execute_result"
    }
   ],
   "source": [
    "# Get shape of new DF:\n",
    "fullgen_df.shape"
   ]
  },
  {
   "cell_type": "markdown",
   "id": "03723b39",
   "metadata": {},
   "source": [
    "#### Exploratory Analysis"
   ]
  },
  {
   "cell_type": "code",
   "execution_count": 250,
   "id": "448556e7",
   "metadata": {},
   "outputs": [
    {
     "data": {
      "text/html": [
       "<div>\n",
       "<style scoped>\n",
       "    .dataframe tbody tr th:only-of-type {\n",
       "        vertical-align: middle;\n",
       "    }\n",
       "\n",
       "    .dataframe tbody tr th {\n",
       "        vertical-align: top;\n",
       "    }\n",
       "\n",
       "    .dataframe thead th {\n",
       "        text-align: right;\n",
       "    }\n",
       "</style>\n",
       "<table border=\"1\" class=\"dataframe\">\n",
       "  <thead>\n",
       "    <tr style=\"text-align: right;\">\n",
       "      <th></th>\n",
       "      <th>hp</th>\n",
       "      <th>attack</th>\n",
       "      <th>defense</th>\n",
       "      <th>special-attack</th>\n",
       "      <th>special-defense</th>\n",
       "      <th>speed</th>\n",
       "      <th>type_1</th>\n",
       "      <th>type_2</th>\n",
       "      <th>Pokemon</th>\n",
       "      <th>totalstat</th>\n",
       "      <th>generation</th>\n",
       "    </tr>\n",
       "  </thead>\n",
       "  <tbody>\n",
       "    <tr>\n",
       "      <th>2</th>\n",
       "      <td>80</td>\n",
       "      <td>82</td>\n",
       "      <td>83</td>\n",
       "      <td>100</td>\n",
       "      <td>100</td>\n",
       "      <td>80</td>\n",
       "      <td>grass</td>\n",
       "      <td>poison</td>\n",
       "      <td>venusaur</td>\n",
       "      <td>525</td>\n",
       "      <td>1</td>\n",
       "    </tr>\n",
       "    <tr>\n",
       "      <th>5</th>\n",
       "      <td>78</td>\n",
       "      <td>84</td>\n",
       "      <td>78</td>\n",
       "      <td>109</td>\n",
       "      <td>85</td>\n",
       "      <td>100</td>\n",
       "      <td>fire</td>\n",
       "      <td>flying</td>\n",
       "      <td>charizard</td>\n",
       "      <td>534</td>\n",
       "      <td>1</td>\n",
       "    </tr>\n",
       "    <tr>\n",
       "      <th>8</th>\n",
       "      <td>79</td>\n",
       "      <td>83</td>\n",
       "      <td>100</td>\n",
       "      <td>85</td>\n",
       "      <td>105</td>\n",
       "      <td>78</td>\n",
       "      <td>water</td>\n",
       "      <td>NaN</td>\n",
       "      <td>blastoise</td>\n",
       "      <td>530</td>\n",
       "      <td>1</td>\n",
       "    </tr>\n",
       "    <tr>\n",
       "      <th>30</th>\n",
       "      <td>90</td>\n",
       "      <td>92</td>\n",
       "      <td>87</td>\n",
       "      <td>75</td>\n",
       "      <td>85</td>\n",
       "      <td>76</td>\n",
       "      <td>poison</td>\n",
       "      <td>ground</td>\n",
       "      <td>nidoqueen</td>\n",
       "      <td>505</td>\n",
       "      <td>1</td>\n",
       "    </tr>\n",
       "    <tr>\n",
       "      <th>33</th>\n",
       "      <td>81</td>\n",
       "      <td>102</td>\n",
       "      <td>77</td>\n",
       "      <td>85</td>\n",
       "      <td>75</td>\n",
       "      <td>85</td>\n",
       "      <td>poison</td>\n",
       "      <td>ground</td>\n",
       "      <td>nidoking</td>\n",
       "      <td>505</td>\n",
       "      <td>1</td>\n",
       "    </tr>\n",
       "  </tbody>\n",
       "</table>\n",
       "</div>"
      ],
      "text/plain": [
       "    hp  attack  defense  special-attack  special-defense  speed  type_1  \\\n",
       "2   80      82       83             100              100     80   grass   \n",
       "5   78      84       78             109               85    100    fire   \n",
       "8   79      83      100              85              105     78   water   \n",
       "30  90      92       87              75               85     76  poison   \n",
       "33  81     102       77              85               75     85  poison   \n",
       "\n",
       "    type_2    Pokemon  totalstat  generation  \n",
       "2   poison   venusaur        525           1  \n",
       "5   flying  charizard        534           1  \n",
       "8      NaN  blastoise        530           1  \n",
       "30  ground  nidoqueen        505           1  \n",
       "33  ground   nidoking        505           1  "
      ]
     },
     "execution_count": 250,
     "metadata": {},
     "output_type": "execute_result"
    }
   ],
   "source": [
    "# Demonstrate filtering (e.g. by min value threshold):\n",
    "fullgen_df.loc[fullgen_df['totalstat'] >= 500].head()"
   ]
  },
  {
   "cell_type": "code",
   "execution_count": 251,
   "id": "95f65d45",
   "metadata": {},
   "outputs": [
    {
     "data": {
      "text/html": [
       "<div>\n",
       "<style scoped>\n",
       "    .dataframe tbody tr th:only-of-type {\n",
       "        vertical-align: middle;\n",
       "    }\n",
       "\n",
       "    .dataframe tbody tr th {\n",
       "        vertical-align: top;\n",
       "    }\n",
       "\n",
       "    .dataframe thead th {\n",
       "        text-align: right;\n",
       "    }\n",
       "</style>\n",
       "<table border=\"1\" class=\"dataframe\">\n",
       "  <thead>\n",
       "    <tr style=\"text-align: right;\">\n",
       "      <th></th>\n",
       "      <th>hp</th>\n",
       "      <th>attack</th>\n",
       "      <th>defense</th>\n",
       "      <th>special-attack</th>\n",
       "      <th>special-defense</th>\n",
       "      <th>speed</th>\n",
       "      <th>type_1</th>\n",
       "      <th>type_2</th>\n",
       "      <th>Pokemon</th>\n",
       "      <th>totalstat</th>\n",
       "      <th>generation</th>\n",
       "    </tr>\n",
       "  </thead>\n",
       "  <tbody>\n",
       "    <tr>\n",
       "      <th>68</th>\n",
       "      <td>108</td>\n",
       "      <td>100</td>\n",
       "      <td>121</td>\n",
       "      <td>81</td>\n",
       "      <td>95</td>\n",
       "      <td>95</td>\n",
       "      <td>dragon</td>\n",
       "      <td>ground</td>\n",
       "      <td>zygarde-50</td>\n",
       "      <td>600</td>\n",
       "      <td>6</td>\n",
       "    </tr>\n",
       "    <tr>\n",
       "      <th>140</th>\n",
       "      <td>72</td>\n",
       "      <td>85</td>\n",
       "      <td>70</td>\n",
       "      <td>65</td>\n",
       "      <td>70</td>\n",
       "      <td>58</td>\n",
       "      <td>dark</td>\n",
       "      <td>dragon</td>\n",
       "      <td>zweilous</td>\n",
       "      <td>420</td>\n",
       "      <td>5</td>\n",
       "    </tr>\n",
       "    <tr>\n",
       "      <th>40</th>\n",
       "      <td>40</td>\n",
       "      <td>45</td>\n",
       "      <td>35</td>\n",
       "      <td>30</td>\n",
       "      <td>40</td>\n",
       "      <td>55</td>\n",
       "      <td>poison</td>\n",
       "      <td>flying</td>\n",
       "      <td>zubat</td>\n",
       "      <td>245</td>\n",
       "      <td>1</td>\n",
       "    </tr>\n",
       "    <tr>\n",
       "      <th>76</th>\n",
       "      <td>40</td>\n",
       "      <td>65</td>\n",
       "      <td>40</td>\n",
       "      <td>80</td>\n",
       "      <td>40</td>\n",
       "      <td>65</td>\n",
       "      <td>dark</td>\n",
       "      <td>NaN</td>\n",
       "      <td>zorua</td>\n",
       "      <td>330</td>\n",
       "      <td>5</td>\n",
       "    </tr>\n",
       "    <tr>\n",
       "      <th>77</th>\n",
       "      <td>60</td>\n",
       "      <td>105</td>\n",
       "      <td>60</td>\n",
       "      <td>120</td>\n",
       "      <td>60</td>\n",
       "      <td>105</td>\n",
       "      <td>dark</td>\n",
       "      <td>NaN</td>\n",
       "      <td>zoroark</td>\n",
       "      <td>510</td>\n",
       "      <td>5</td>\n",
       "    </tr>\n",
       "    <tr>\n",
       "      <th>11</th>\n",
       "      <td>38</td>\n",
       "      <td>30</td>\n",
       "      <td>41</td>\n",
       "      <td>30</td>\n",
       "      <td>41</td>\n",
       "      <td>60</td>\n",
       "      <td>normal</td>\n",
       "      <td>NaN</td>\n",
       "      <td>zigzagoon</td>\n",
       "      <td>240</td>\n",
       "      <td>3</td>\n",
       "    </tr>\n",
       "    <tr>\n",
       "      <th>85</th>\n",
       "      <td>88</td>\n",
       "      <td>112</td>\n",
       "      <td>75</td>\n",
       "      <td>102</td>\n",
       "      <td>80</td>\n",
       "      <td>143</td>\n",
       "      <td>electric</td>\n",
       "      <td>NaN</td>\n",
       "      <td>zeraora</td>\n",
       "      <td>600</td>\n",
       "      <td>7</td>\n",
       "    </tr>\n",
       "    <tr>\n",
       "      <th>150</th>\n",
       "      <td>100</td>\n",
       "      <td>150</td>\n",
       "      <td>120</td>\n",
       "      <td>120</td>\n",
       "      <td>100</td>\n",
       "      <td>90</td>\n",
       "      <td>dragon</td>\n",
       "      <td>electric</td>\n",
       "      <td>zekrom</td>\n",
       "      <td>680</td>\n",
       "      <td>5</td>\n",
       "    </tr>\n",
       "  </tbody>\n",
       "</table>\n",
       "</div>"
      ],
      "text/plain": [
       "      hp  attack  defense  special-attack  special-defense  speed    type_1  \\\n",
       "68   108     100      121              81               95     95    dragon   \n",
       "140   72      85       70              65               70     58      dark   \n",
       "40    40      45       35              30               40     55    poison   \n",
       "76    40      65       40              80               40     65      dark   \n",
       "77    60     105       60             120               60    105      dark   \n",
       "11    38      30       41              30               41     60    normal   \n",
       "85    88     112       75             102               80    143  electric   \n",
       "150  100     150      120             120              100     90    dragon   \n",
       "\n",
       "       type_2     Pokemon  totalstat  generation  \n",
       "68     ground  zygarde-50        600           6  \n",
       "140    dragon    zweilous        420           5  \n",
       "40     flying       zubat        245           1  \n",
       "76        NaN       zorua        330           5  \n",
       "77        NaN     zoroark        510           5  \n",
       "11        NaN   zigzagoon        240           3  \n",
       "85        NaN     zeraora        600           7  \n",
       "150  electric      zekrom        680           5  "
      ]
     },
     "execution_count": 251,
     "metadata": {},
     "output_type": "execute_result"
    }
   ],
   "source": [
    "# Demonstrate sorting by...\n",
    "# Returning first 8 entries, sorted by Pokemon name in descending order:\n",
    "fullgen_df.sort_values(by=['Pokemon'], ascending=False).head(8)"
   ]
  },
  {
   "cell_type": "code",
   "execution_count": 252,
   "id": "a4ab18b8",
   "metadata": {
    "scrolled": true
   },
   "outputs": [
    {
     "data": {
      "text/html": [
       "<div>\n",
       "<style scoped>\n",
       "    .dataframe tbody tr th:only-of-type {\n",
       "        vertical-align: middle;\n",
       "    }\n",
       "\n",
       "    .dataframe tbody tr th {\n",
       "        vertical-align: top;\n",
       "    }\n",
       "\n",
       "    .dataframe thead th {\n",
       "        text-align: right;\n",
       "    }\n",
       "</style>\n",
       "<table border=\"1\" class=\"dataframe\">\n",
       "  <thead>\n",
       "    <tr style=\"text-align: right;\">\n",
       "      <th></th>\n",
       "      <th>hp</th>\n",
       "      <th>attack</th>\n",
       "      <th>defense</th>\n",
       "      <th>special-attack</th>\n",
       "      <th>special-defense</th>\n",
       "      <th>speed</th>\n",
       "      <th>totalstat</th>\n",
       "      <th>generation</th>\n",
       "    </tr>\n",
       "  </thead>\n",
       "  <tbody>\n",
       "    <tr>\n",
       "      <th>count</th>\n",
       "      <td>1010.000000</td>\n",
       "      <td>1010.000000</td>\n",
       "      <td>1010.000000</td>\n",
       "      <td>1010.000000</td>\n",
       "      <td>1010.000000</td>\n",
       "      <td>1010.000000</td>\n",
       "      <td>1010.000000</td>\n",
       "      <td>1010.000000</td>\n",
       "    </tr>\n",
       "    <tr>\n",
       "      <th>mean</th>\n",
       "      <td>69.920792</td>\n",
       "      <td>77.389109</td>\n",
       "      <td>72.123762</td>\n",
       "      <td>69.737624</td>\n",
       "      <td>69.944554</td>\n",
       "      <td>66.976238</td>\n",
       "      <td>426.092079</td>\n",
       "      <td>4.678218</td>\n",
       "    </tr>\n",
       "    <tr>\n",
       "      <th>std</th>\n",
       "      <td>26.651955</td>\n",
       "      <td>29.865408</td>\n",
       "      <td>29.154446</td>\n",
       "      <td>29.540342</td>\n",
       "      <td>26.686167</td>\n",
       "      <td>28.727961</td>\n",
       "      <td>112.500829</td>\n",
       "      <td>2.601063</td>\n",
       "    </tr>\n",
       "    <tr>\n",
       "      <th>min</th>\n",
       "      <td>1.000000</td>\n",
       "      <td>5.000000</td>\n",
       "      <td>5.000000</td>\n",
       "      <td>10.000000</td>\n",
       "      <td>20.000000</td>\n",
       "      <td>5.000000</td>\n",
       "      <td>175.000000</td>\n",
       "      <td>1.000000</td>\n",
       "    </tr>\n",
       "    <tr>\n",
       "      <th>25%</th>\n",
       "      <td>50.000000</td>\n",
       "      <td>55.000000</td>\n",
       "      <td>50.000000</td>\n",
       "      <td>45.250000</td>\n",
       "      <td>50.000000</td>\n",
       "      <td>45.000000</td>\n",
       "      <td>320.750000</td>\n",
       "      <td>3.000000</td>\n",
       "    </tr>\n",
       "    <tr>\n",
       "      <th>50%</th>\n",
       "      <td>67.000000</td>\n",
       "      <td>75.000000</td>\n",
       "      <td>69.500000</td>\n",
       "      <td>65.000000</td>\n",
       "      <td>65.000000</td>\n",
       "      <td>65.000000</td>\n",
       "      <td>450.000000</td>\n",
       "      <td>5.000000</td>\n",
       "    </tr>\n",
       "    <tr>\n",
       "      <th>75%</th>\n",
       "      <td>83.000000</td>\n",
       "      <td>100.000000</td>\n",
       "      <td>90.000000</td>\n",
       "      <td>90.000000</td>\n",
       "      <td>85.000000</td>\n",
       "      <td>87.000000</td>\n",
       "      <td>505.000000</td>\n",
       "      <td>7.000000</td>\n",
       "    </tr>\n",
       "    <tr>\n",
       "      <th>max</th>\n",
       "      <td>255.000000</td>\n",
       "      <td>181.000000</td>\n",
       "      <td>230.000000</td>\n",
       "      <td>173.000000</td>\n",
       "      <td>230.000000</td>\n",
       "      <td>200.000000</td>\n",
       "      <td>720.000000</td>\n",
       "      <td>9.000000</td>\n",
       "    </tr>\n",
       "  </tbody>\n",
       "</table>\n",
       "</div>"
      ],
      "text/plain": [
       "                hp       attack      defense  special-attack  special-defense  \\\n",
       "count  1010.000000  1010.000000  1010.000000     1010.000000      1010.000000   \n",
       "mean     69.920792    77.389109    72.123762       69.737624        69.944554   \n",
       "std      26.651955    29.865408    29.154446       29.540342        26.686167   \n",
       "min       1.000000     5.000000     5.000000       10.000000        20.000000   \n",
       "25%      50.000000    55.000000    50.000000       45.250000        50.000000   \n",
       "50%      67.000000    75.000000    69.500000       65.000000        65.000000   \n",
       "75%      83.000000   100.000000    90.000000       90.000000        85.000000   \n",
       "max     255.000000   181.000000   230.000000      173.000000       230.000000   \n",
       "\n",
       "             speed    totalstat   generation  \n",
       "count  1010.000000  1010.000000  1010.000000  \n",
       "mean     66.976238   426.092079     4.678218  \n",
       "std      28.727961   112.500829     2.601063  \n",
       "min       5.000000   175.000000     1.000000  \n",
       "25%      45.000000   320.750000     3.000000  \n",
       "50%      65.000000   450.000000     5.000000  \n",
       "75%      87.000000   505.000000     7.000000  \n",
       "max     200.000000   720.000000     9.000000  "
      ]
     },
     "execution_count": 252,
     "metadata": {},
     "output_type": "execute_result"
    }
   ],
   "source": [
    "# Examine Data\n",
    "fullgen_df.describe()"
   ]
  },
  {
   "cell_type": "markdown",
   "id": "aea60a55",
   "metadata": {},
   "source": [
    "#### There are some oddities; for example, HP has a minimum of 1 and maximum of 255, despite the mean only being roughly 70. But it can be hard to parse this many numbers, so a visualisation should help us better understand how everything looks."
   ]
  },
  {
   "cell_type": "code",
   "execution_count": 155,
   "id": "fa47d778",
   "metadata": {},
   "outputs": [
    {
     "data": {
      "application/vnd.plotly.v1+json": {
       "config": {
        "plotlyServerURL": "https://plot.ly"
       },
       "data": [
        {
         "alignmentgroup": "True",
         "bingroup": "x",
         "hovertemplate": "totalstat=%{x}<br>count=%{y}<extra></extra>",
         "legendgroup": "",
         "marker": {
          "color": "#636efa",
          "pattern": {
           "shape": ""
          }
         },
         "name": "",
         "offsetgroup": "",
         "orientation": "v",
         "showlegend": false,
         "type": "histogram",
         "x": [
          318,
          405,
          525,
          309,
          405,
          534,
          314,
          405,
          530,
          195,
          205,
          395,
          195,
          205,
          395,
          251,
          349,
          479,
          253,
          413,
          262,
          442,
          288,
          448,
          320,
          485,
          300,
          450,
          275,
          365,
          505,
          273,
          365,
          505,
          323,
          483,
          299,
          505,
          270,
          435,
          245,
          455,
          320,
          395,
          490,
          285,
          405,
          305,
          450,
          265,
          425,
          290,
          440,
          320,
          500,
          305,
          455,
          350,
          555,
          300,
          385,
          510,
          310,
          400,
          500,
          305,
          405,
          505,
          300,
          390,
          490,
          335,
          515,
          300,
          390,
          495,
          410,
          500,
          315,
          490,
          325,
          465,
          377,
          310,
          470,
          325,
          475,
          325,
          500,
          305,
          525,
          310,
          405,
          500,
          385,
          328,
          483,
          325,
          475,
          330,
          490,
          325,
          530,
          320,
          425,
          455,
          455,
          385,
          340,
          490,
          345,
          485,
          450,
          435,
          490,
          295,
          440,
          320,
          450,
          340,
          520,
          460,
          500,
          455,
          490,
          495,
          500,
          490,
          200,
          540,
          535,
          288,
          325,
          525,
          525,
          525,
          395,
          355,
          495,
          355,
          495,
          515,
          540,
          580,
          580,
          580,
          300,
          420,
          600,
          680,
          600,
          318,
          405,
          525,
          309,
          405,
          534,
          314,
          405,
          530,
          215,
          415,
          262,
          452,
          265,
          390,
          250,
          400,
          535,
          330,
          460,
          205,
          218,
          210,
          245,
          405,
          320,
          470,
          280,
          365,
          510,
          490,
          250,
          420,
          410,
          500,
          250,
          340,
          460,
          360,
          180,
          425,
          390,
          210,
          430,
          525,
          525,
          405,
          490,
          435,
          336,
          405,
          455,
          290,
          465,
          415,
          430,
          510,
          300,
          450,
          440,
          500,
          505,
          500,
          430,
          330,
          500,
          250,
          430,
          250,
          450,
          410,
          300,
          480,
          330,
          485,
          465,
          330,
          500,
          540,
          330,
          500,
          515,
          465,
          250,
          210,
          455,
          305,
          360,
          365,
          490,
          540,
          580,
          580,
          580,
          300,
          410,
          600,
          680,
          680,
          600,
          310,
          405,
          530,
          310,
          405,
          530,
          310,
          405,
          535,
          220,
          420,
          240,
          420,
          195,
          205,
          395,
          205,
          385,
          220,
          340,
          480,
          220,
          340,
          480,
          270,
          455,
          270,
          440,
          198,
          278,
          518,
          269,
          454,
          295,
          460,
          280,
          440,
          670,
          266,
          456,
          236,
          240,
          360,
          490,
          237,
          474,
          190,
          375,
          260,
          400,
          380,
          380,
          330,
          430,
          530,
          280,
          410,
          295,
          475,
          405,
          405,
          430,
          430,
          400,
          302,
          467,
          305,
          460,
          400,
          500,
          305,
          460,
          470,
          330,
          470,
          360,
          290,
          340,
          520,
          335,
          475,
          310,
          490,
          458,
          458,
          460,
          460,
          288,
          468,
          308,
          468,
          300,
          500,
          355,
          495,
          355,
          495,
          200,
          540,
          420,
          440,
          295,
          455,
          295,
          455,
          460,
          455,
          465,
          260,
          300,
          480,
          290,
          410,
          530,
          345,
          485,
          485,
          485,
          330,
          300,
          420,
          600,
          300,
          420,
          600,
          580,
          580,
          580,
          600,
          600,
          670,
          670,
          680,
          600,
          600,
          318,
          405,
          525,
          309,
          405,
          534,
          314,
          405,
          530,
          245,
          340,
          485,
          250,
          410,
          194,
          384,
          263,
          363,
          523,
          280,
          515,
          350,
          495,
          350,
          495,
          224,
          424,
          424,
          244,
          474,
          405,
          330,
          495,
          275,
          450,
          325,
          475,
          482,
          348,
          498,
          350,
          480,
          495,
          505,
          310,
          452,
          285,
          329,
          479,
          300,
          500,
          290,
          310,
          220,
          411,
          485,
          300,
          410,
          600,
          390,
          285,
          525,
          330,
          525,
          330,
          500,
          300,
          490,
          454,
          330,
          460,
          345,
          334,
          494,
          510,
          535,
          515,
          535,
          535,
          540,
          540,
          545,
          515,
          525,
          525,
          510,
          530,
          535,
          518,
          525,
          525,
          480,
          440,
          580,
          580,
          580,
          680,
          680,
          600,
          670,
          680,
          600,
          480,
          600,
          600,
          600,
          720,
          600,
          308,
          413,
          528,
          308,
          418,
          528,
          308,
          413,
          528,
          255,
          420,
          275,
          370,
          500,
          281,
          446,
          316,
          498,
          316,
          498,
          316,
          498,
          292,
          487,
          264,
          358,
          488,
          295,
          497,
          280,
          390,
          515,
          323,
          425,
          328,
          508,
          445,
          305,
          405,
          505,
          294,
          384,
          509,
          465,
          465,
          310,
          380,
          500,
          260,
          360,
          485,
          280,
          480,
          280,
          480,
          460,
          292,
          351,
          519,
          315,
          480,
          461,
          325,
          485,
          348,
          488,
          490,
          303,
          483,
          355,
          495,
          401,
          567,
          329,
          474,
          330,
          510,
          300,
          470,
          290,
          390,
          490,
          290,
          370,
          490,
          305,
          473,
          305,
          395,
          535,
          335,
          475,
          428,
          315,
          495,
          294,
          464,
          335,
          480,
          470,
          319,
          472,
          305,
          489,
          300,
          440,
          520,
          275,
          405,
          515,
          335,
          485,
          275,
          370,
          520,
          320,
          410,
          540,
          305,
          505,
          515,
          305,
          495,
          471,
          350,
          510,
          485,
          303,
          483,
          340,
          490,
          490,
          350,
          510,
          370,
          510,
          484,
          484,
          300,
          420,
          600,
          360,
          550,
          580,
          580,
          580,
          580,
          580,
          680,
          680,
          600,
          660,
          580,
          600,
          600,
          313,
          405,
          530,
          307,
          409,
          534,
          314,
          405,
          530,
          237,
          423,
          278,
          382,
          499,
          200,
          213,
          411,
          369,
          507,
          303,
          371,
          552,
          350,
          531,
          348,
          495,
          472,
          355,
          466,
          325,
          448,
          500,
          341,
          462,
          341,
          480,
          288,
          482,
          306,
          500,
          320,
          494,
          330,
          500,
          289,
          481,
          362,
          521,
          362,
          521,
          525,
          500,
          431,
          500,
          300,
          452,
          600,
          470,
          309,
          474,
          335,
          494,
          304,
          514,
          245,
          535,
          680,
          680,
          600,
          600,
          600,
          600,
          320,
          420,
          530,
          320,
          420,
          530,
          320,
          420,
          530,
          265,
          355,
          485,
          253,
          418,
          300,
          400,
          500,
          338,
          478,
          476,
          304,
          464,
          280,
          487,
          175,
          305,
          495,
          385,
          500,
          269,
          454,
          250,
          480,
          285,
          405,
          320,
          480,
          340,
          500,
          210,
          290,
          510,
          485,
          490,
          490,
          230,
          530,
          320,
          480,
          410,
          534,
          570,
          440,
          480,
          485,
          435,
          476,
          475,
          485,
          517,
          300,
          420,
          600,
          570,
          570,
          570,
          570,
          200,
          400,
          680,
          680,
          570,
          570,
          570,
          570,
          570,
          570,
          570,
          600,
          600,
          600,
          420,
          540,
          570,
          570,
          600,
          300,
          600,
          310,
          420,
          530,
          310,
          420,
          530,
          310,
          420,
          530,
          275,
          460,
          245,
          365,
          495,
          180,
          335,
          505,
          245,
          455,
          250,
          460,
          270,
          490,
          284,
          485,
          270,
          490,
          240,
          410,
          510,
          260,
          485,
          485,
          315,
          510,
          475,
          280,
          490,
          242,
          502,
          305,
          525,
          310,
          480,
          308,
          508,
          265,
          370,
          510,
          265,
          370,
          510,
          520,
          440,
          510,
          507,
          520,
          483,
          270,
          495,
          470,
          435,
          185,
          475,
          470,
          470,
          475,
          436,
          330,
          500,
          505,
          505,
          505,
          505,
          535,
          270,
          410,
          600,
          670,
          670,
          690,
          385,
          550,
          600,
          580,
          580,
          580,
          580,
          500,
          525,
          500,
          550,
          530,
          510,
          510,
          580,
          310,
          410,
          530,
          310,
          411,
          530,
          310,
          410,
          530,
          254,
          489,
          210,
          404,
          210,
          450,
          240,
          350,
          490,
          305,
          470,
          312,
          477,
          260,
          354,
          510,
          417,
          280,
          355,
          500,
          255,
          525,
          525,
          272,
          495,
          280,
          490,
          340,
          505,
          290,
          485,
          275,
          480,
          335,
          515,
          450,
          304,
          486,
          270,
          470,
          255,
          481,
          297,
          380,
          506,
          245,
          425,
          485,
          315,
          457,
          300,
          500,
          501,
          480,
          350,
          525,
          290,
          488,
          500,
          334,
          521,
          478,
          530,
          475,
          535,
          430,
          520,
          520,
          550,
          570,
          570,
          570,
          570,
          570,
          570,
          570,
          570,
          570,
          570,
          570,
          570,
          320,
          423,
          600,
          300,
          550,
          570,
          570,
          570,
          570,
          590,
          590,
          670,
          670,
          590,
          590
         ],
         "xaxis": "x",
         "yaxis": "y"
        }
       ],
       "layout": {
        "barmode": "relative",
        "legend": {
         "tracegroupgap": 0
        },
        "margin": {
         "t": 60
        },
        "template": {
         "data": {
          "bar": [
           {
            "error_x": {
             "color": "#2a3f5f"
            },
            "error_y": {
             "color": "#2a3f5f"
            },
            "marker": {
             "line": {
              "color": "#E5ECF6",
              "width": 0.5
             },
             "pattern": {
              "fillmode": "overlay",
              "size": 10,
              "solidity": 0.2
             }
            },
            "type": "bar"
           }
          ],
          "barpolar": [
           {
            "marker": {
             "line": {
              "color": "#E5ECF6",
              "width": 0.5
             },
             "pattern": {
              "fillmode": "overlay",
              "size": 10,
              "solidity": 0.2
             }
            },
            "type": "barpolar"
           }
          ],
          "carpet": [
           {
            "aaxis": {
             "endlinecolor": "#2a3f5f",
             "gridcolor": "white",
             "linecolor": "white",
             "minorgridcolor": "white",
             "startlinecolor": "#2a3f5f"
            },
            "baxis": {
             "endlinecolor": "#2a3f5f",
             "gridcolor": "white",
             "linecolor": "white",
             "minorgridcolor": "white",
             "startlinecolor": "#2a3f5f"
            },
            "type": "carpet"
           }
          ],
          "choropleth": [
           {
            "colorbar": {
             "outlinewidth": 0,
             "ticks": ""
            },
            "type": "choropleth"
           }
          ],
          "contour": [
           {
            "colorbar": {
             "outlinewidth": 0,
             "ticks": ""
            },
            "colorscale": [
             [
              0,
              "#0d0887"
             ],
             [
              0.1111111111111111,
              "#46039f"
             ],
             [
              0.2222222222222222,
              "#7201a8"
             ],
             [
              0.3333333333333333,
              "#9c179e"
             ],
             [
              0.4444444444444444,
              "#bd3786"
             ],
             [
              0.5555555555555556,
              "#d8576b"
             ],
             [
              0.6666666666666666,
              "#ed7953"
             ],
             [
              0.7777777777777778,
              "#fb9f3a"
             ],
             [
              0.8888888888888888,
              "#fdca26"
             ],
             [
              1,
              "#f0f921"
             ]
            ],
            "type": "contour"
           }
          ],
          "contourcarpet": [
           {
            "colorbar": {
             "outlinewidth": 0,
             "ticks": ""
            },
            "type": "contourcarpet"
           }
          ],
          "heatmap": [
           {
            "colorbar": {
             "outlinewidth": 0,
             "ticks": ""
            },
            "colorscale": [
             [
              0,
              "#0d0887"
             ],
             [
              0.1111111111111111,
              "#46039f"
             ],
             [
              0.2222222222222222,
              "#7201a8"
             ],
             [
              0.3333333333333333,
              "#9c179e"
             ],
             [
              0.4444444444444444,
              "#bd3786"
             ],
             [
              0.5555555555555556,
              "#d8576b"
             ],
             [
              0.6666666666666666,
              "#ed7953"
             ],
             [
              0.7777777777777778,
              "#fb9f3a"
             ],
             [
              0.8888888888888888,
              "#fdca26"
             ],
             [
              1,
              "#f0f921"
             ]
            ],
            "type": "heatmap"
           }
          ],
          "heatmapgl": [
           {
            "colorbar": {
             "outlinewidth": 0,
             "ticks": ""
            },
            "colorscale": [
             [
              0,
              "#0d0887"
             ],
             [
              0.1111111111111111,
              "#46039f"
             ],
             [
              0.2222222222222222,
              "#7201a8"
             ],
             [
              0.3333333333333333,
              "#9c179e"
             ],
             [
              0.4444444444444444,
              "#bd3786"
             ],
             [
              0.5555555555555556,
              "#d8576b"
             ],
             [
              0.6666666666666666,
              "#ed7953"
             ],
             [
              0.7777777777777778,
              "#fb9f3a"
             ],
             [
              0.8888888888888888,
              "#fdca26"
             ],
             [
              1,
              "#f0f921"
             ]
            ],
            "type": "heatmapgl"
           }
          ],
          "histogram": [
           {
            "marker": {
             "pattern": {
              "fillmode": "overlay",
              "size": 10,
              "solidity": 0.2
             }
            },
            "type": "histogram"
           }
          ],
          "histogram2d": [
           {
            "colorbar": {
             "outlinewidth": 0,
             "ticks": ""
            },
            "colorscale": [
             [
              0,
              "#0d0887"
             ],
             [
              0.1111111111111111,
              "#46039f"
             ],
             [
              0.2222222222222222,
              "#7201a8"
             ],
             [
              0.3333333333333333,
              "#9c179e"
             ],
             [
              0.4444444444444444,
              "#bd3786"
             ],
             [
              0.5555555555555556,
              "#d8576b"
             ],
             [
              0.6666666666666666,
              "#ed7953"
             ],
             [
              0.7777777777777778,
              "#fb9f3a"
             ],
             [
              0.8888888888888888,
              "#fdca26"
             ],
             [
              1,
              "#f0f921"
             ]
            ],
            "type": "histogram2d"
           }
          ],
          "histogram2dcontour": [
           {
            "colorbar": {
             "outlinewidth": 0,
             "ticks": ""
            },
            "colorscale": [
             [
              0,
              "#0d0887"
             ],
             [
              0.1111111111111111,
              "#46039f"
             ],
             [
              0.2222222222222222,
              "#7201a8"
             ],
             [
              0.3333333333333333,
              "#9c179e"
             ],
             [
              0.4444444444444444,
              "#bd3786"
             ],
             [
              0.5555555555555556,
              "#d8576b"
             ],
             [
              0.6666666666666666,
              "#ed7953"
             ],
             [
              0.7777777777777778,
              "#fb9f3a"
             ],
             [
              0.8888888888888888,
              "#fdca26"
             ],
             [
              1,
              "#f0f921"
             ]
            ],
            "type": "histogram2dcontour"
           }
          ],
          "mesh3d": [
           {
            "colorbar": {
             "outlinewidth": 0,
             "ticks": ""
            },
            "type": "mesh3d"
           }
          ],
          "parcoords": [
           {
            "line": {
             "colorbar": {
              "outlinewidth": 0,
              "ticks": ""
             }
            },
            "type": "parcoords"
           }
          ],
          "pie": [
           {
            "automargin": true,
            "type": "pie"
           }
          ],
          "scatter": [
           {
            "fillpattern": {
             "fillmode": "overlay",
             "size": 10,
             "solidity": 0.2
            },
            "type": "scatter"
           }
          ],
          "scatter3d": [
           {
            "line": {
             "colorbar": {
              "outlinewidth": 0,
              "ticks": ""
             }
            },
            "marker": {
             "colorbar": {
              "outlinewidth": 0,
              "ticks": ""
             }
            },
            "type": "scatter3d"
           }
          ],
          "scattercarpet": [
           {
            "marker": {
             "colorbar": {
              "outlinewidth": 0,
              "ticks": ""
             }
            },
            "type": "scattercarpet"
           }
          ],
          "scattergeo": [
           {
            "marker": {
             "colorbar": {
              "outlinewidth": 0,
              "ticks": ""
             }
            },
            "type": "scattergeo"
           }
          ],
          "scattergl": [
           {
            "marker": {
             "colorbar": {
              "outlinewidth": 0,
              "ticks": ""
             }
            },
            "type": "scattergl"
           }
          ],
          "scattermapbox": [
           {
            "marker": {
             "colorbar": {
              "outlinewidth": 0,
              "ticks": ""
             }
            },
            "type": "scattermapbox"
           }
          ],
          "scatterpolar": [
           {
            "marker": {
             "colorbar": {
              "outlinewidth": 0,
              "ticks": ""
             }
            },
            "type": "scatterpolar"
           }
          ],
          "scatterpolargl": [
           {
            "marker": {
             "colorbar": {
              "outlinewidth": 0,
              "ticks": ""
             }
            },
            "type": "scatterpolargl"
           }
          ],
          "scatterternary": [
           {
            "marker": {
             "colorbar": {
              "outlinewidth": 0,
              "ticks": ""
             }
            },
            "type": "scatterternary"
           }
          ],
          "surface": [
           {
            "colorbar": {
             "outlinewidth": 0,
             "ticks": ""
            },
            "colorscale": [
             [
              0,
              "#0d0887"
             ],
             [
              0.1111111111111111,
              "#46039f"
             ],
             [
              0.2222222222222222,
              "#7201a8"
             ],
             [
              0.3333333333333333,
              "#9c179e"
             ],
             [
              0.4444444444444444,
              "#bd3786"
             ],
             [
              0.5555555555555556,
              "#d8576b"
             ],
             [
              0.6666666666666666,
              "#ed7953"
             ],
             [
              0.7777777777777778,
              "#fb9f3a"
             ],
             [
              0.8888888888888888,
              "#fdca26"
             ],
             [
              1,
              "#f0f921"
             ]
            ],
            "type": "surface"
           }
          ],
          "table": [
           {
            "cells": {
             "fill": {
              "color": "#EBF0F8"
             },
             "line": {
              "color": "white"
             }
            },
            "header": {
             "fill": {
              "color": "#C8D4E3"
             },
             "line": {
              "color": "white"
             }
            },
            "type": "table"
           }
          ]
         },
         "layout": {
          "annotationdefaults": {
           "arrowcolor": "#2a3f5f",
           "arrowhead": 0,
           "arrowwidth": 1
          },
          "autotypenumbers": "strict",
          "coloraxis": {
           "colorbar": {
            "outlinewidth": 0,
            "ticks": ""
           }
          },
          "colorscale": {
           "diverging": [
            [
             0,
             "#8e0152"
            ],
            [
             0.1,
             "#c51b7d"
            ],
            [
             0.2,
             "#de77ae"
            ],
            [
             0.3,
             "#f1b6da"
            ],
            [
             0.4,
             "#fde0ef"
            ],
            [
             0.5,
             "#f7f7f7"
            ],
            [
             0.6,
             "#e6f5d0"
            ],
            [
             0.7,
             "#b8e186"
            ],
            [
             0.8,
             "#7fbc41"
            ],
            [
             0.9,
             "#4d9221"
            ],
            [
             1,
             "#276419"
            ]
           ],
           "sequential": [
            [
             0,
             "#0d0887"
            ],
            [
             0.1111111111111111,
             "#46039f"
            ],
            [
             0.2222222222222222,
             "#7201a8"
            ],
            [
             0.3333333333333333,
             "#9c179e"
            ],
            [
             0.4444444444444444,
             "#bd3786"
            ],
            [
             0.5555555555555556,
             "#d8576b"
            ],
            [
             0.6666666666666666,
             "#ed7953"
            ],
            [
             0.7777777777777778,
             "#fb9f3a"
            ],
            [
             0.8888888888888888,
             "#fdca26"
            ],
            [
             1,
             "#f0f921"
            ]
           ],
           "sequentialminus": [
            [
             0,
             "#0d0887"
            ],
            [
             0.1111111111111111,
             "#46039f"
            ],
            [
             0.2222222222222222,
             "#7201a8"
            ],
            [
             0.3333333333333333,
             "#9c179e"
            ],
            [
             0.4444444444444444,
             "#bd3786"
            ],
            [
             0.5555555555555556,
             "#d8576b"
            ],
            [
             0.6666666666666666,
             "#ed7953"
            ],
            [
             0.7777777777777778,
             "#fb9f3a"
            ],
            [
             0.8888888888888888,
             "#fdca26"
            ],
            [
             1,
             "#f0f921"
            ]
           ]
          },
          "colorway": [
           "#636efa",
           "#EF553B",
           "#00cc96",
           "#ab63fa",
           "#FFA15A",
           "#19d3f3",
           "#FF6692",
           "#B6E880",
           "#FF97FF",
           "#FECB52"
          ],
          "font": {
           "color": "#2a3f5f"
          },
          "geo": {
           "bgcolor": "white",
           "lakecolor": "white",
           "landcolor": "#E5ECF6",
           "showlakes": true,
           "showland": true,
           "subunitcolor": "white"
          },
          "hoverlabel": {
           "align": "left"
          },
          "hovermode": "closest",
          "mapbox": {
           "style": "light"
          },
          "paper_bgcolor": "white",
          "plot_bgcolor": "#E5ECF6",
          "polar": {
           "angularaxis": {
            "gridcolor": "white",
            "linecolor": "white",
            "ticks": ""
           },
           "bgcolor": "#E5ECF6",
           "radialaxis": {
            "gridcolor": "white",
            "linecolor": "white",
            "ticks": ""
           }
          },
          "scene": {
           "xaxis": {
            "backgroundcolor": "#E5ECF6",
            "gridcolor": "white",
            "gridwidth": 2,
            "linecolor": "white",
            "showbackground": true,
            "ticks": "",
            "zerolinecolor": "white"
           },
           "yaxis": {
            "backgroundcolor": "#E5ECF6",
            "gridcolor": "white",
            "gridwidth": 2,
            "linecolor": "white",
            "showbackground": true,
            "ticks": "",
            "zerolinecolor": "white"
           },
           "zaxis": {
            "backgroundcolor": "#E5ECF6",
            "gridcolor": "white",
            "gridwidth": 2,
            "linecolor": "white",
            "showbackground": true,
            "ticks": "",
            "zerolinecolor": "white"
           }
          },
          "shapedefaults": {
           "line": {
            "color": "#2a3f5f"
           }
          },
          "ternary": {
           "aaxis": {
            "gridcolor": "white",
            "linecolor": "white",
            "ticks": ""
           },
           "baxis": {
            "gridcolor": "white",
            "linecolor": "white",
            "ticks": ""
           },
           "bgcolor": "#E5ECF6",
           "caxis": {
            "gridcolor": "white",
            "linecolor": "white",
            "ticks": ""
           }
          },
          "title": {
           "x": 0.05
          },
          "xaxis": {
           "automargin": true,
           "gridcolor": "white",
           "linecolor": "white",
           "ticks": "",
           "title": {
            "standoff": 15
           },
           "zerolinecolor": "white",
           "zerolinewidth": 2
          },
          "yaxis": {
           "automargin": true,
           "gridcolor": "white",
           "linecolor": "white",
           "ticks": "",
           "title": {
            "standoff": 15
           },
           "zerolinecolor": "white",
           "zerolinewidth": 2
          }
         }
        },
        "xaxis": {
         "anchor": "y",
         "domain": [
          0,
          1
         ],
         "title": {
          "text": "totalstat"
         }
        },
        "yaxis": {
         "anchor": "x",
         "domain": [
          0,
          1
         ],
         "title": {
          "text": "count"
         }
        }
       }
      },
      "text/html": [
       "<div>                            <div id=\"c1136b22-d871-4979-8321-90c262d655e1\" class=\"plotly-graph-div\" style=\"height:525px; width:100%;\"></div>            <script type=\"text/javascript\">                require([\"plotly\"], function(Plotly) {                    window.PLOTLYENV=window.PLOTLYENV || {};                                    if (document.getElementById(\"c1136b22-d871-4979-8321-90c262d655e1\")) {                    Plotly.newPlot(                        \"c1136b22-d871-4979-8321-90c262d655e1\",                        [{\"alignmentgroup\":\"True\",\"bingroup\":\"x\",\"hovertemplate\":\"totalstat=%{x}<br>count=%{y}<extra></extra>\",\"legendgroup\":\"\",\"marker\":{\"color\":\"#636efa\",\"pattern\":{\"shape\":\"\"}},\"name\":\"\",\"offsetgroup\":\"\",\"orientation\":\"v\",\"showlegend\":false,\"x\":[318,405,525,309,405,534,314,405,530,195,205,395,195,205,395,251,349,479,253,413,262,442,288,448,320,485,300,450,275,365,505,273,365,505,323,483,299,505,270,435,245,455,320,395,490,285,405,305,450,265,425,290,440,320,500,305,455,350,555,300,385,510,310,400,500,305,405,505,300,390,490,335,515,300,390,495,410,500,315,490,325,465,377,310,470,325,475,325,500,305,525,310,405,500,385,328,483,325,475,330,490,325,530,320,425,455,455,385,340,490,345,485,450,435,490,295,440,320,450,340,520,460,500,455,490,495,500,490,200,540,535,288,325,525,525,525,395,355,495,355,495,515,540,580,580,580,300,420,600,680,600,318,405,525,309,405,534,314,405,530,215,415,262,452,265,390,250,400,535,330,460,205,218,210,245,405,320,470,280,365,510,490,250,420,410,500,250,340,460,360,180,425,390,210,430,525,525,405,490,435,336,405,455,290,465,415,430,510,300,450,440,500,505,500,430,330,500,250,430,250,450,410,300,480,330,485,465,330,500,540,330,500,515,465,250,210,455,305,360,365,490,540,580,580,580,300,410,600,680,680,600,310,405,530,310,405,530,310,405,535,220,420,240,420,195,205,395,205,385,220,340,480,220,340,480,270,455,270,440,198,278,518,269,454,295,460,280,440,670,266,456,236,240,360,490,237,474,190,375,260,400,380,380,330,430,530,280,410,295,475,405,405,430,430,400,302,467,305,460,400,500,305,460,470,330,470,360,290,340,520,335,475,310,490,458,458,460,460,288,468,308,468,300,500,355,495,355,495,200,540,420,440,295,455,295,455,460,455,465,260,300,480,290,410,530,345,485,485,485,330,300,420,600,300,420,600,580,580,580,600,600,670,670,680,600,600,318,405,525,309,405,534,314,405,530,245,340,485,250,410,194,384,263,363,523,280,515,350,495,350,495,224,424,424,244,474,405,330,495,275,450,325,475,482,348,498,350,480,495,505,310,452,285,329,479,300,500,290,310,220,411,485,300,410,600,390,285,525,330,525,330,500,300,490,454,330,460,345,334,494,510,535,515,535,535,540,540,545,515,525,525,510,530,535,518,525,525,480,440,580,580,580,680,680,600,670,680,600,480,600,600,600,720,600,308,413,528,308,418,528,308,413,528,255,420,275,370,500,281,446,316,498,316,498,316,498,292,487,264,358,488,295,497,280,390,515,323,425,328,508,445,305,405,505,294,384,509,465,465,310,380,500,260,360,485,280,480,280,480,460,292,351,519,315,480,461,325,485,348,488,490,303,483,355,495,401,567,329,474,330,510,300,470,290,390,490,290,370,490,305,473,305,395,535,335,475,428,315,495,294,464,335,480,470,319,472,305,489,300,440,520,275,405,515,335,485,275,370,520,320,410,540,305,505,515,305,495,471,350,510,485,303,483,340,490,490,350,510,370,510,484,484,300,420,600,360,550,580,580,580,580,580,680,680,600,660,580,600,600,313,405,530,307,409,534,314,405,530,237,423,278,382,499,200,213,411,369,507,303,371,552,350,531,348,495,472,355,466,325,448,500,341,462,341,480,288,482,306,500,320,494,330,500,289,481,362,521,362,521,525,500,431,500,300,452,600,470,309,474,335,494,304,514,245,535,680,680,600,600,600,600,320,420,530,320,420,530,320,420,530,265,355,485,253,418,300,400,500,338,478,476,304,464,280,487,175,305,495,385,500,269,454,250,480,285,405,320,480,340,500,210,290,510,485,490,490,230,530,320,480,410,534,570,440,480,485,435,476,475,485,517,300,420,600,570,570,570,570,200,400,680,680,570,570,570,570,570,570,570,600,600,600,420,540,570,570,600,300,600,310,420,530,310,420,530,310,420,530,275,460,245,365,495,180,335,505,245,455,250,460,270,490,284,485,270,490,240,410,510,260,485,485,315,510,475,280,490,242,502,305,525,310,480,308,508,265,370,510,265,370,510,520,440,510,507,520,483,270,495,470,435,185,475,470,470,475,436,330,500,505,505,505,505,535,270,410,600,670,670,690,385,550,600,580,580,580,580,500,525,500,550,530,510,510,580,310,410,530,310,411,530,310,410,530,254,489,210,404,210,450,240,350,490,305,470,312,477,260,354,510,417,280,355,500,255,525,525,272,495,280,490,340,505,290,485,275,480,335,515,450,304,486,270,470,255,481,297,380,506,245,425,485,315,457,300,500,501,480,350,525,290,488,500,334,521,478,530,475,535,430,520,520,550,570,570,570,570,570,570,570,570,570,570,570,570,320,423,600,300,550,570,570,570,570,590,590,670,670,590,590],\"xaxis\":\"x\",\"yaxis\":\"y\",\"type\":\"histogram\"}],                        {\"template\":{\"data\":{\"histogram2dcontour\":[{\"type\":\"histogram2dcontour\",\"colorbar\":{\"outlinewidth\":0,\"ticks\":\"\"},\"colorscale\":[[0.0,\"#0d0887\"],[0.1111111111111111,\"#46039f\"],[0.2222222222222222,\"#7201a8\"],[0.3333333333333333,\"#9c179e\"],[0.4444444444444444,\"#bd3786\"],[0.5555555555555556,\"#d8576b\"],[0.6666666666666666,\"#ed7953\"],[0.7777777777777778,\"#fb9f3a\"],[0.8888888888888888,\"#fdca26\"],[1.0,\"#f0f921\"]]}],\"choropleth\":[{\"type\":\"choropleth\",\"colorbar\":{\"outlinewidth\":0,\"ticks\":\"\"}}],\"histogram2d\":[{\"type\":\"histogram2d\",\"colorbar\":{\"outlinewidth\":0,\"ticks\":\"\"},\"colorscale\":[[0.0,\"#0d0887\"],[0.1111111111111111,\"#46039f\"],[0.2222222222222222,\"#7201a8\"],[0.3333333333333333,\"#9c179e\"],[0.4444444444444444,\"#bd3786\"],[0.5555555555555556,\"#d8576b\"],[0.6666666666666666,\"#ed7953\"],[0.7777777777777778,\"#fb9f3a\"],[0.8888888888888888,\"#fdca26\"],[1.0,\"#f0f921\"]]}],\"heatmap\":[{\"type\":\"heatmap\",\"colorbar\":{\"outlinewidth\":0,\"ticks\":\"\"},\"colorscale\":[[0.0,\"#0d0887\"],[0.1111111111111111,\"#46039f\"],[0.2222222222222222,\"#7201a8\"],[0.3333333333333333,\"#9c179e\"],[0.4444444444444444,\"#bd3786\"],[0.5555555555555556,\"#d8576b\"],[0.6666666666666666,\"#ed7953\"],[0.7777777777777778,\"#fb9f3a\"],[0.8888888888888888,\"#fdca26\"],[1.0,\"#f0f921\"]]}],\"heatmapgl\":[{\"type\":\"heatmapgl\",\"colorbar\":{\"outlinewidth\":0,\"ticks\":\"\"},\"colorscale\":[[0.0,\"#0d0887\"],[0.1111111111111111,\"#46039f\"],[0.2222222222222222,\"#7201a8\"],[0.3333333333333333,\"#9c179e\"],[0.4444444444444444,\"#bd3786\"],[0.5555555555555556,\"#d8576b\"],[0.6666666666666666,\"#ed7953\"],[0.7777777777777778,\"#fb9f3a\"],[0.8888888888888888,\"#fdca26\"],[1.0,\"#f0f921\"]]}],\"contourcarpet\":[{\"type\":\"contourcarpet\",\"colorbar\":{\"outlinewidth\":0,\"ticks\":\"\"}}],\"contour\":[{\"type\":\"contour\",\"colorbar\":{\"outlinewidth\":0,\"ticks\":\"\"},\"colorscale\":[[0.0,\"#0d0887\"],[0.1111111111111111,\"#46039f\"],[0.2222222222222222,\"#7201a8\"],[0.3333333333333333,\"#9c179e\"],[0.4444444444444444,\"#bd3786\"],[0.5555555555555556,\"#d8576b\"],[0.6666666666666666,\"#ed7953\"],[0.7777777777777778,\"#fb9f3a\"],[0.8888888888888888,\"#fdca26\"],[1.0,\"#f0f921\"]]}],\"surface\":[{\"type\":\"surface\",\"colorbar\":{\"outlinewidth\":0,\"ticks\":\"\"},\"colorscale\":[[0.0,\"#0d0887\"],[0.1111111111111111,\"#46039f\"],[0.2222222222222222,\"#7201a8\"],[0.3333333333333333,\"#9c179e\"],[0.4444444444444444,\"#bd3786\"],[0.5555555555555556,\"#d8576b\"],[0.6666666666666666,\"#ed7953\"],[0.7777777777777778,\"#fb9f3a\"],[0.8888888888888888,\"#fdca26\"],[1.0,\"#f0f921\"]]}],\"mesh3d\":[{\"type\":\"mesh3d\",\"colorbar\":{\"outlinewidth\":0,\"ticks\":\"\"}}],\"scatter\":[{\"fillpattern\":{\"fillmode\":\"overlay\",\"size\":10,\"solidity\":0.2},\"type\":\"scatter\"}],\"parcoords\":[{\"type\":\"parcoords\",\"line\":{\"colorbar\":{\"outlinewidth\":0,\"ticks\":\"\"}}}],\"scatterpolargl\":[{\"type\":\"scatterpolargl\",\"marker\":{\"colorbar\":{\"outlinewidth\":0,\"ticks\":\"\"}}}],\"bar\":[{\"error_x\":{\"color\":\"#2a3f5f\"},\"error_y\":{\"color\":\"#2a3f5f\"},\"marker\":{\"line\":{\"color\":\"#E5ECF6\",\"width\":0.5},\"pattern\":{\"fillmode\":\"overlay\",\"size\":10,\"solidity\":0.2}},\"type\":\"bar\"}],\"scattergeo\":[{\"type\":\"scattergeo\",\"marker\":{\"colorbar\":{\"outlinewidth\":0,\"ticks\":\"\"}}}],\"scatterpolar\":[{\"type\":\"scatterpolar\",\"marker\":{\"colorbar\":{\"outlinewidth\":0,\"ticks\":\"\"}}}],\"histogram\":[{\"marker\":{\"pattern\":{\"fillmode\":\"overlay\",\"size\":10,\"solidity\":0.2}},\"type\":\"histogram\"}],\"scattergl\":[{\"type\":\"scattergl\",\"marker\":{\"colorbar\":{\"outlinewidth\":0,\"ticks\":\"\"}}}],\"scatter3d\":[{\"type\":\"scatter3d\",\"line\":{\"colorbar\":{\"outlinewidth\":0,\"ticks\":\"\"}},\"marker\":{\"colorbar\":{\"outlinewidth\":0,\"ticks\":\"\"}}}],\"scattermapbox\":[{\"type\":\"scattermapbox\",\"marker\":{\"colorbar\":{\"outlinewidth\":0,\"ticks\":\"\"}}}],\"scatterternary\":[{\"type\":\"scatterternary\",\"marker\":{\"colorbar\":{\"outlinewidth\":0,\"ticks\":\"\"}}}],\"scattercarpet\":[{\"type\":\"scattercarpet\",\"marker\":{\"colorbar\":{\"outlinewidth\":0,\"ticks\":\"\"}}}],\"carpet\":[{\"aaxis\":{\"endlinecolor\":\"#2a3f5f\",\"gridcolor\":\"white\",\"linecolor\":\"white\",\"minorgridcolor\":\"white\",\"startlinecolor\":\"#2a3f5f\"},\"baxis\":{\"endlinecolor\":\"#2a3f5f\",\"gridcolor\":\"white\",\"linecolor\":\"white\",\"minorgridcolor\":\"white\",\"startlinecolor\":\"#2a3f5f\"},\"type\":\"carpet\"}],\"table\":[{\"cells\":{\"fill\":{\"color\":\"#EBF0F8\"},\"line\":{\"color\":\"white\"}},\"header\":{\"fill\":{\"color\":\"#C8D4E3\"},\"line\":{\"color\":\"white\"}},\"type\":\"table\"}],\"barpolar\":[{\"marker\":{\"line\":{\"color\":\"#E5ECF6\",\"width\":0.5},\"pattern\":{\"fillmode\":\"overlay\",\"size\":10,\"solidity\":0.2}},\"type\":\"barpolar\"}],\"pie\":[{\"automargin\":true,\"type\":\"pie\"}]},\"layout\":{\"autotypenumbers\":\"strict\",\"colorway\":[\"#636efa\",\"#EF553B\",\"#00cc96\",\"#ab63fa\",\"#FFA15A\",\"#19d3f3\",\"#FF6692\",\"#B6E880\",\"#FF97FF\",\"#FECB52\"],\"font\":{\"color\":\"#2a3f5f\"},\"hovermode\":\"closest\",\"hoverlabel\":{\"align\":\"left\"},\"paper_bgcolor\":\"white\",\"plot_bgcolor\":\"#E5ECF6\",\"polar\":{\"bgcolor\":\"#E5ECF6\",\"angularaxis\":{\"gridcolor\":\"white\",\"linecolor\":\"white\",\"ticks\":\"\"},\"radialaxis\":{\"gridcolor\":\"white\",\"linecolor\":\"white\",\"ticks\":\"\"}},\"ternary\":{\"bgcolor\":\"#E5ECF6\",\"aaxis\":{\"gridcolor\":\"white\",\"linecolor\":\"white\",\"ticks\":\"\"},\"baxis\":{\"gridcolor\":\"white\",\"linecolor\":\"white\",\"ticks\":\"\"},\"caxis\":{\"gridcolor\":\"white\",\"linecolor\":\"white\",\"ticks\":\"\"}},\"coloraxis\":{\"colorbar\":{\"outlinewidth\":0,\"ticks\":\"\"}},\"colorscale\":{\"sequential\":[[0.0,\"#0d0887\"],[0.1111111111111111,\"#46039f\"],[0.2222222222222222,\"#7201a8\"],[0.3333333333333333,\"#9c179e\"],[0.4444444444444444,\"#bd3786\"],[0.5555555555555556,\"#d8576b\"],[0.6666666666666666,\"#ed7953\"],[0.7777777777777778,\"#fb9f3a\"],[0.8888888888888888,\"#fdca26\"],[1.0,\"#f0f921\"]],\"sequentialminus\":[[0.0,\"#0d0887\"],[0.1111111111111111,\"#46039f\"],[0.2222222222222222,\"#7201a8\"],[0.3333333333333333,\"#9c179e\"],[0.4444444444444444,\"#bd3786\"],[0.5555555555555556,\"#d8576b\"],[0.6666666666666666,\"#ed7953\"],[0.7777777777777778,\"#fb9f3a\"],[0.8888888888888888,\"#fdca26\"],[1.0,\"#f0f921\"]],\"diverging\":[[0,\"#8e0152\"],[0.1,\"#c51b7d\"],[0.2,\"#de77ae\"],[0.3,\"#f1b6da\"],[0.4,\"#fde0ef\"],[0.5,\"#f7f7f7\"],[0.6,\"#e6f5d0\"],[0.7,\"#b8e186\"],[0.8,\"#7fbc41\"],[0.9,\"#4d9221\"],[1,\"#276419\"]]},\"xaxis\":{\"gridcolor\":\"white\",\"linecolor\":\"white\",\"ticks\":\"\",\"title\":{\"standoff\":15},\"zerolinecolor\":\"white\",\"automargin\":true,\"zerolinewidth\":2},\"yaxis\":{\"gridcolor\":\"white\",\"linecolor\":\"white\",\"ticks\":\"\",\"title\":{\"standoff\":15},\"zerolinecolor\":\"white\",\"automargin\":true,\"zerolinewidth\":2},\"scene\":{\"xaxis\":{\"backgroundcolor\":\"#E5ECF6\",\"gridcolor\":\"white\",\"linecolor\":\"white\",\"showbackground\":true,\"ticks\":\"\",\"zerolinecolor\":\"white\",\"gridwidth\":2},\"yaxis\":{\"backgroundcolor\":\"#E5ECF6\",\"gridcolor\":\"white\",\"linecolor\":\"white\",\"showbackground\":true,\"ticks\":\"\",\"zerolinecolor\":\"white\",\"gridwidth\":2},\"zaxis\":{\"backgroundcolor\":\"#E5ECF6\",\"gridcolor\":\"white\",\"linecolor\":\"white\",\"showbackground\":true,\"ticks\":\"\",\"zerolinecolor\":\"white\",\"gridwidth\":2}},\"shapedefaults\":{\"line\":{\"color\":\"#2a3f5f\"}},\"annotationdefaults\":{\"arrowcolor\":\"#2a3f5f\",\"arrowhead\":0,\"arrowwidth\":1},\"geo\":{\"bgcolor\":\"white\",\"landcolor\":\"#E5ECF6\",\"subunitcolor\":\"white\",\"showland\":true,\"showlakes\":true,\"lakecolor\":\"white\"},\"title\":{\"x\":0.05},\"mapbox\":{\"style\":\"light\"}}},\"xaxis\":{\"anchor\":\"y\",\"domain\":[0.0,1.0],\"title\":{\"text\":\"totalstat\"}},\"yaxis\":{\"anchor\":\"x\",\"domain\":[0.0,1.0],\"title\":{\"text\":\"count\"}},\"legend\":{\"tracegroupgap\":0},\"margin\":{\"t\":60},\"barmode\":\"relative\"},                        {\"responsive\": true}                    ).then(function(){\n",
       "                            \n",
       "var gd = document.getElementById('c1136b22-d871-4979-8321-90c262d655e1');\n",
       "var x = new MutationObserver(function (mutations, observer) {{\n",
       "        var display = window.getComputedStyle(gd).display;\n",
       "        if (!display || display === 'none') {{\n",
       "            console.log([gd, 'removed!']);\n",
       "            Plotly.purge(gd);\n",
       "            observer.disconnect();\n",
       "        }}\n",
       "}});\n",
       "\n",
       "// Listen for the removal of the full notebook cells\n",
       "var notebookContainer = gd.closest('#notebook-container');\n",
       "if (notebookContainer) {{\n",
       "    x.observe(notebookContainer, {childList: true});\n",
       "}}\n",
       "\n",
       "// Listen for the clearing of the current output cell\n",
       "var outputEl = gd.closest('.output');\n",
       "if (outputEl) {{\n",
       "    x.observe(outputEl, {childList: true});\n",
       "}}\n",
       "\n",
       "                        })                };                });            </script>        </div>"
      ]
     },
     "metadata": {},
     "output_type": "display_data"
    }
   ],
   "source": [
    "# Let's do a histogram to better see how everything looks:\n",
    "fig_totalstat = px.histogram(fullgen_df,x='totalstat')\n",
    "fig_totalstat.show()"
   ]
  },
  {
   "cell_type": "markdown",
   "id": "28ca1b9e",
   "metadata": {},
   "source": [
    "#### Now, outliers in themselves are not necessarily a huge deal given the scenario and starting problem/goal we want to solve, but there are instances where a given Pokemon could have one really good stat while otherwise being mediocre (or even instances where there is one really bad stat, like HP = 1, that could prevent it from being good even if its totalstat value is higher). Furthermore, an outlier for totalstat could be especially good or especially bad."
   ]
  },
  {
   "cell_type": "markdown",
   "id": "6c2b6b5c",
   "metadata": {},
   "source": [
    "#### However, if the goal is try to narrow down the list of Pokemon into a \"competitive\" set, then it may be a good idea to filter out anything that falls below the 50% totalstat mark; something with only a total stat value of 175 has a much lower rating than half of everything that is available. Let's continue with some data cleaning."
   ]
  },
  {
   "cell_type": "markdown",
   "id": "f31b28e8",
   "metadata": {},
   "source": [
    "## DataFrame Modification"
   ]
  },
  {
   "cell_type": "code",
   "execution_count": 253,
   "id": "ae6a1ed6",
   "metadata": {
    "scrolled": true
   },
   "outputs": [
    {
     "data": {
      "text/html": [
       "<div>\n",
       "<style scoped>\n",
       "    .dataframe tbody tr th:only-of-type {\n",
       "        vertical-align: middle;\n",
       "    }\n",
       "\n",
       "    .dataframe tbody tr th {\n",
       "        vertical-align: top;\n",
       "    }\n",
       "\n",
       "    .dataframe thead th {\n",
       "        text-align: right;\n",
       "    }\n",
       "</style>\n",
       "<table border=\"1\" class=\"dataframe\">\n",
       "  <thead>\n",
       "    <tr style=\"text-align: right;\">\n",
       "      <th></th>\n",
       "      <th>hp</th>\n",
       "      <th>attack</th>\n",
       "      <th>defense</th>\n",
       "      <th>special-attack</th>\n",
       "      <th>special-defense</th>\n",
       "      <th>speed</th>\n",
       "      <th>type_1</th>\n",
       "      <th>type_2</th>\n",
       "      <th>Pokemon</th>\n",
       "      <th>totalstat</th>\n",
       "      <th>generation</th>\n",
       "    </tr>\n",
       "  </thead>\n",
       "  <tbody>\n",
       "    <tr>\n",
       "      <th>0</th>\n",
       "      <td>45</td>\n",
       "      <td>49</td>\n",
       "      <td>49</td>\n",
       "      <td>65</td>\n",
       "      <td>65</td>\n",
       "      <td>45</td>\n",
       "      <td>Grass</td>\n",
       "      <td>Poison</td>\n",
       "      <td>Bulbasaur</td>\n",
       "      <td>318</td>\n",
       "      <td>1</td>\n",
       "    </tr>\n",
       "    <tr>\n",
       "      <th>1</th>\n",
       "      <td>60</td>\n",
       "      <td>62</td>\n",
       "      <td>63</td>\n",
       "      <td>80</td>\n",
       "      <td>80</td>\n",
       "      <td>60</td>\n",
       "      <td>Grass</td>\n",
       "      <td>Poison</td>\n",
       "      <td>Ivysaur</td>\n",
       "      <td>405</td>\n",
       "      <td>1</td>\n",
       "    </tr>\n",
       "    <tr>\n",
       "      <th>2</th>\n",
       "      <td>80</td>\n",
       "      <td>82</td>\n",
       "      <td>83</td>\n",
       "      <td>100</td>\n",
       "      <td>100</td>\n",
       "      <td>80</td>\n",
       "      <td>Grass</td>\n",
       "      <td>Poison</td>\n",
       "      <td>Venusaur</td>\n",
       "      <td>525</td>\n",
       "      <td>1</td>\n",
       "    </tr>\n",
       "    <tr>\n",
       "      <th>3</th>\n",
       "      <td>39</td>\n",
       "      <td>52</td>\n",
       "      <td>43</td>\n",
       "      <td>60</td>\n",
       "      <td>50</td>\n",
       "      <td>65</td>\n",
       "      <td>Fire</td>\n",
       "      <td>NaN</td>\n",
       "      <td>Charmander</td>\n",
       "      <td>309</td>\n",
       "      <td>1</td>\n",
       "    </tr>\n",
       "    <tr>\n",
       "      <th>4</th>\n",
       "      <td>58</td>\n",
       "      <td>64</td>\n",
       "      <td>58</td>\n",
       "      <td>80</td>\n",
       "      <td>65</td>\n",
       "      <td>80</td>\n",
       "      <td>Fire</td>\n",
       "      <td>NaN</td>\n",
       "      <td>Charmeleon</td>\n",
       "      <td>405</td>\n",
       "      <td>1</td>\n",
       "    </tr>\n",
       "  </tbody>\n",
       "</table>\n",
       "</div>"
      ],
      "text/plain": [
       "   hp  attack  defense  special-attack  special-defense  speed type_1  type_2  \\\n",
       "0  45      49       49              65               65     45  Grass  Poison   \n",
       "1  60      62       63              80               80     60  Grass  Poison   \n",
       "2  80      82       83             100              100     80  Grass  Poison   \n",
       "3  39      52       43              60               50     65   Fire     NaN   \n",
       "4  58      64       58              80               65     80   Fire     NaN   \n",
       "\n",
       "      Pokemon  totalstat  generation  \n",
       "0   Bulbasaur        318           1  \n",
       "1     Ivysaur        405           1  \n",
       "2    Venusaur        525           1  \n",
       "3  Charmander        309           1  \n",
       "4  Charmeleon        405           1  "
      ]
     },
     "execution_count": 253,
     "metadata": {},
     "output_type": "execute_result"
    }
   ],
   "source": [
    "# We may as well start by standardizing data:\n",
    "fullgen_df['type_1'] = fullgen_df['type_1'].str.capitalize()\n",
    "fullgen_df['type_2'] = fullgen_df['type_2'].str.capitalize()\n",
    "fullgen_df['Pokemon'] = fullgen_df['Pokemon'].str.title()\n",
    "fullgen_df.head()"
   ]
  },
  {
   "cell_type": "code",
   "execution_count": 254,
   "id": "c8d06261",
   "metadata": {
    "scrolled": false
   },
   "outputs": [
    {
     "name": "stdout",
     "output_type": "stream",
     "text": [
      "Number of NaNs: 497\n"
     ]
    },
    {
     "data": {
      "text/plain": [
       "497"
      ]
     },
     "execution_count": 254,
     "metadata": {},
     "output_type": "execute_result"
    }
   ],
   "source": [
    "# Check for NaN values too:\n",
    "print(\"Number of NaNs: \" + str(fullgen_df.isnull().sum().sum()))\n",
    "\n",
    "# We noticed some under the type_2 column, so let's check there first:\n",
    "fullgen_df['type_2'].isnull().sum()"
   ]
  },
  {
   "cell_type": "code",
   "execution_count": 255,
   "id": "eedc443c",
   "metadata": {},
   "outputs": [
    {
     "data": {
      "text/html": [
       "<div>\n",
       "<style scoped>\n",
       "    .dataframe tbody tr th:only-of-type {\n",
       "        vertical-align: middle;\n",
       "    }\n",
       "\n",
       "    .dataframe tbody tr th {\n",
       "        vertical-align: top;\n",
       "    }\n",
       "\n",
       "    .dataframe thead th {\n",
       "        text-align: right;\n",
       "    }\n",
       "</style>\n",
       "<table border=\"1\" class=\"dataframe\">\n",
       "  <thead>\n",
       "    <tr style=\"text-align: right;\">\n",
       "      <th></th>\n",
       "      <th>hp</th>\n",
       "      <th>attack</th>\n",
       "      <th>defense</th>\n",
       "      <th>special-attack</th>\n",
       "      <th>special-defense</th>\n",
       "      <th>speed</th>\n",
       "      <th>type_1</th>\n",
       "      <th>type_2</th>\n",
       "      <th>Pokemon</th>\n",
       "      <th>totalstat</th>\n",
       "      <th>generation</th>\n",
       "    </tr>\n",
       "  </thead>\n",
       "  <tbody>\n",
       "    <tr>\n",
       "      <th>0</th>\n",
       "      <td>45</td>\n",
       "      <td>49</td>\n",
       "      <td>49</td>\n",
       "      <td>65</td>\n",
       "      <td>65</td>\n",
       "      <td>45</td>\n",
       "      <td>Grass</td>\n",
       "      <td>Poison</td>\n",
       "      <td>Bulbasaur</td>\n",
       "      <td>318</td>\n",
       "      <td>1</td>\n",
       "    </tr>\n",
       "    <tr>\n",
       "      <th>1</th>\n",
       "      <td>60</td>\n",
       "      <td>62</td>\n",
       "      <td>63</td>\n",
       "      <td>80</td>\n",
       "      <td>80</td>\n",
       "      <td>60</td>\n",
       "      <td>Grass</td>\n",
       "      <td>Poison</td>\n",
       "      <td>Ivysaur</td>\n",
       "      <td>405</td>\n",
       "      <td>1</td>\n",
       "    </tr>\n",
       "    <tr>\n",
       "      <th>2</th>\n",
       "      <td>80</td>\n",
       "      <td>82</td>\n",
       "      <td>83</td>\n",
       "      <td>100</td>\n",
       "      <td>100</td>\n",
       "      <td>80</td>\n",
       "      <td>Grass</td>\n",
       "      <td>Poison</td>\n",
       "      <td>Venusaur</td>\n",
       "      <td>525</td>\n",
       "      <td>1</td>\n",
       "    </tr>\n",
       "    <tr>\n",
       "      <th>3</th>\n",
       "      <td>39</td>\n",
       "      <td>52</td>\n",
       "      <td>43</td>\n",
       "      <td>60</td>\n",
       "      <td>50</td>\n",
       "      <td>65</td>\n",
       "      <td>Fire</td>\n",
       "      <td>N/A</td>\n",
       "      <td>Charmander</td>\n",
       "      <td>309</td>\n",
       "      <td>1</td>\n",
       "    </tr>\n",
       "    <tr>\n",
       "      <th>4</th>\n",
       "      <td>58</td>\n",
       "      <td>64</td>\n",
       "      <td>58</td>\n",
       "      <td>80</td>\n",
       "      <td>65</td>\n",
       "      <td>80</td>\n",
       "      <td>Fire</td>\n",
       "      <td>N/A</td>\n",
       "      <td>Charmeleon</td>\n",
       "      <td>405</td>\n",
       "      <td>1</td>\n",
       "    </tr>\n",
       "  </tbody>\n",
       "</table>\n",
       "</div>"
      ],
      "text/plain": [
       "   hp  attack  defense  special-attack  special-defense  speed type_1  type_2  \\\n",
       "0  45      49       49              65               65     45  Grass  Poison   \n",
       "1  60      62       63              80               80     60  Grass  Poison   \n",
       "2  80      82       83             100              100     80  Grass  Poison   \n",
       "3  39      52       43              60               50     65   Fire     N/A   \n",
       "4  58      64       58              80               65     80   Fire     N/A   \n",
       "\n",
       "      Pokemon  totalstat  generation  \n",
       "0   Bulbasaur        318           1  \n",
       "1     Ivysaur        405           1  \n",
       "2    Venusaur        525           1  \n",
       "3  Charmander        309           1  \n",
       "4  Charmeleon        405           1  "
      ]
     },
     "execution_count": 255,
     "metadata": {},
     "output_type": "execute_result"
    }
   ],
   "source": [
    "# We deliberately generated our CSV with null values in rows where there is no \"type_2\", but\n",
    "# it's comforting to know there are no others. Now to properly fill them:\n",
    "fullgen_df['type_2'] = fullgen_df['type_2'].fillna('N/A')\n",
    "fullgen_df.head()"
   ]
  },
  {
   "cell_type": "markdown",
   "id": "ae27ea70",
   "metadata": {},
   "source": [
    "#### On further thought, it may also be a good idea to create a basic \"power\" rating for later analysis. "
   ]
  },
  {
   "cell_type": "code",
   "execution_count": 256,
   "id": "9a6d7d6b",
   "metadata": {},
   "outputs": [
    {
     "data": {
      "text/html": [
       "<div>\n",
       "<style scoped>\n",
       "    .dataframe tbody tr th:only-of-type {\n",
       "        vertical-align: middle;\n",
       "    }\n",
       "\n",
       "    .dataframe tbody tr th {\n",
       "        vertical-align: top;\n",
       "    }\n",
       "\n",
       "    .dataframe thead th {\n",
       "        text-align: right;\n",
       "    }\n",
       "</style>\n",
       "<table border=\"1\" class=\"dataframe\">\n",
       "  <thead>\n",
       "    <tr style=\"text-align: right;\">\n",
       "      <th></th>\n",
       "      <th>hp</th>\n",
       "      <th>attack</th>\n",
       "      <th>defense</th>\n",
       "      <th>special-attack</th>\n",
       "      <th>special-defense</th>\n",
       "      <th>speed</th>\n",
       "      <th>type_1</th>\n",
       "      <th>type_2</th>\n",
       "      <th>Pokemon</th>\n",
       "      <th>totalstat</th>\n",
       "      <th>generation</th>\n",
       "      <th>avg_power</th>\n",
       "    </tr>\n",
       "  </thead>\n",
       "  <tbody>\n",
       "    <tr>\n",
       "      <th>0</th>\n",
       "      <td>45</td>\n",
       "      <td>49</td>\n",
       "      <td>49</td>\n",
       "      <td>65</td>\n",
       "      <td>65</td>\n",
       "      <td>45</td>\n",
       "      <td>Grass</td>\n",
       "      <td>Poison</td>\n",
       "      <td>Bulbasaur</td>\n",
       "      <td>318</td>\n",
       "      <td>1</td>\n",
       "      <td>57</td>\n",
       "    </tr>\n",
       "    <tr>\n",
       "      <th>1</th>\n",
       "      <td>60</td>\n",
       "      <td>62</td>\n",
       "      <td>63</td>\n",
       "      <td>80</td>\n",
       "      <td>80</td>\n",
       "      <td>60</td>\n",
       "      <td>Grass</td>\n",
       "      <td>Poison</td>\n",
       "      <td>Ivysaur</td>\n",
       "      <td>405</td>\n",
       "      <td>1</td>\n",
       "      <td>71</td>\n",
       "    </tr>\n",
       "    <tr>\n",
       "      <th>2</th>\n",
       "      <td>80</td>\n",
       "      <td>82</td>\n",
       "      <td>83</td>\n",
       "      <td>100</td>\n",
       "      <td>100</td>\n",
       "      <td>80</td>\n",
       "      <td>Grass</td>\n",
       "      <td>Poison</td>\n",
       "      <td>Venusaur</td>\n",
       "      <td>525</td>\n",
       "      <td>1</td>\n",
       "      <td>91</td>\n",
       "    </tr>\n",
       "    <tr>\n",
       "      <th>3</th>\n",
       "      <td>39</td>\n",
       "      <td>52</td>\n",
       "      <td>43</td>\n",
       "      <td>60</td>\n",
       "      <td>50</td>\n",
       "      <td>65</td>\n",
       "      <td>Fire</td>\n",
       "      <td>N/A</td>\n",
       "      <td>Charmander</td>\n",
       "      <td>309</td>\n",
       "      <td>1</td>\n",
       "      <td>56</td>\n",
       "    </tr>\n",
       "    <tr>\n",
       "      <th>4</th>\n",
       "      <td>58</td>\n",
       "      <td>64</td>\n",
       "      <td>58</td>\n",
       "      <td>80</td>\n",
       "      <td>65</td>\n",
       "      <td>80</td>\n",
       "      <td>Fire</td>\n",
       "      <td>N/A</td>\n",
       "      <td>Charmeleon</td>\n",
       "      <td>405</td>\n",
       "      <td>1</td>\n",
       "      <td>72</td>\n",
       "    </tr>\n",
       "  </tbody>\n",
       "</table>\n",
       "</div>"
      ],
      "text/plain": [
       "   hp  attack  defense  special-attack  special-defense  speed type_1  type_2  \\\n",
       "0  45      49       49              65               65     45  Grass  Poison   \n",
       "1  60      62       63              80               80     60  Grass  Poison   \n",
       "2  80      82       83             100              100     80  Grass  Poison   \n",
       "3  39      52       43              60               50     65   Fire     N/A   \n",
       "4  58      64       58              80               65     80   Fire     N/A   \n",
       "\n",
       "      Pokemon  totalstat  generation  avg_power  \n",
       "0   Bulbasaur        318           1         57  \n",
       "1     Ivysaur        405           1         71  \n",
       "2    Venusaur        525           1         91  \n",
       "3  Charmander        309           1         56  \n",
       "4  Charmeleon        405           1         72  "
      ]
     },
     "execution_count": 256,
     "metadata": {},
     "output_type": "execute_result"
    }
   ],
   "source": [
    "# Add new column (e.g. joint \"power\" value, averaging both kinds of attack stat):\n",
    "fullgen_df['avg_power'] = (fullgen_df['attack'] \n",
    "                       + fullgen_df['special-attack']) // 2\n",
    "fullgen_df.head()"
   ]
  },
  {
   "cell_type": "markdown",
   "id": "38eab946",
   "metadata": {},
   "source": [
    "#### If at least 50% of Pokemon have a totalstat value of 450 or greater, then we should drop anything that falls below this on the assumption that they are unlikely to rival much of the upper 50% of all options."
   ]
  },
  {
   "cell_type": "code",
   "execution_count": 257,
   "id": "8ce78acb",
   "metadata": {},
   "outputs": [
    {
     "name": "stdout",
     "output_type": "stream",
     "text": [
      "Number of Pokemon remaining: 507\n"
     ]
    },
    {
     "data": {
      "text/html": [
       "<div>\n",
       "<style scoped>\n",
       "    .dataframe tbody tr th:only-of-type {\n",
       "        vertical-align: middle;\n",
       "    }\n",
       "\n",
       "    .dataframe tbody tr th {\n",
       "        vertical-align: top;\n",
       "    }\n",
       "\n",
       "    .dataframe thead th {\n",
       "        text-align: right;\n",
       "    }\n",
       "</style>\n",
       "<table border=\"1\" class=\"dataframe\">\n",
       "  <thead>\n",
       "    <tr style=\"text-align: right;\">\n",
       "      <th></th>\n",
       "      <th>hp</th>\n",
       "      <th>attack</th>\n",
       "      <th>defense</th>\n",
       "      <th>special-attack</th>\n",
       "      <th>special-defense</th>\n",
       "      <th>speed</th>\n",
       "      <th>type_1</th>\n",
       "      <th>type_2</th>\n",
       "      <th>Pokemon</th>\n",
       "      <th>totalstat</th>\n",
       "      <th>generation</th>\n",
       "      <th>avg_power</th>\n",
       "    </tr>\n",
       "  </thead>\n",
       "  <tbody>\n",
       "    <tr>\n",
       "      <th>2</th>\n",
       "      <td>80</td>\n",
       "      <td>82</td>\n",
       "      <td>83</td>\n",
       "      <td>100</td>\n",
       "      <td>100</td>\n",
       "      <td>80</td>\n",
       "      <td>Grass</td>\n",
       "      <td>Poison</td>\n",
       "      <td>Venusaur</td>\n",
       "      <td>525</td>\n",
       "      <td>1</td>\n",
       "      <td>91</td>\n",
       "    </tr>\n",
       "    <tr>\n",
       "      <th>5</th>\n",
       "      <td>78</td>\n",
       "      <td>84</td>\n",
       "      <td>78</td>\n",
       "      <td>109</td>\n",
       "      <td>85</td>\n",
       "      <td>100</td>\n",
       "      <td>Fire</td>\n",
       "      <td>Flying</td>\n",
       "      <td>Charizard</td>\n",
       "      <td>534</td>\n",
       "      <td>1</td>\n",
       "      <td>96</td>\n",
       "    </tr>\n",
       "    <tr>\n",
       "      <th>8</th>\n",
       "      <td>79</td>\n",
       "      <td>83</td>\n",
       "      <td>100</td>\n",
       "      <td>85</td>\n",
       "      <td>105</td>\n",
       "      <td>78</td>\n",
       "      <td>Water</td>\n",
       "      <td>N/A</td>\n",
       "      <td>Blastoise</td>\n",
       "      <td>530</td>\n",
       "      <td>1</td>\n",
       "      <td>84</td>\n",
       "    </tr>\n",
       "    <tr>\n",
       "      <th>17</th>\n",
       "      <td>83</td>\n",
       "      <td>80</td>\n",
       "      <td>75</td>\n",
       "      <td>70</td>\n",
       "      <td>70</td>\n",
       "      <td>101</td>\n",
       "      <td>Normal</td>\n",
       "      <td>Flying</td>\n",
       "      <td>Pidgeot</td>\n",
       "      <td>479</td>\n",
       "      <td>1</td>\n",
       "      <td>75</td>\n",
       "    </tr>\n",
       "    <tr>\n",
       "      <th>25</th>\n",
       "      <td>60</td>\n",
       "      <td>90</td>\n",
       "      <td>55</td>\n",
       "      <td>90</td>\n",
       "      <td>80</td>\n",
       "      <td>110</td>\n",
       "      <td>Electric</td>\n",
       "      <td>N/A</td>\n",
       "      <td>Raichu</td>\n",
       "      <td>485</td>\n",
       "      <td>1</td>\n",
       "      <td>90</td>\n",
       "    </tr>\n",
       "  </tbody>\n",
       "</table>\n",
       "</div>"
      ],
      "text/plain": [
       "    hp  attack  defense  special-attack  special-defense  speed    type_1  \\\n",
       "2   80      82       83             100              100     80     Grass   \n",
       "5   78      84       78             109               85    100      Fire   \n",
       "8   79      83      100              85              105     78     Water   \n",
       "17  83      80       75              70               70    101    Normal   \n",
       "25  60      90       55              90               80    110  Electric   \n",
       "\n",
       "    type_2    Pokemon  totalstat  generation  avg_power  \n",
       "2   Poison   Venusaur        525           1         91  \n",
       "5   Flying  Charizard        534           1         96  \n",
       "8      N/A  Blastoise        530           1         84  \n",
       "17  Flying    Pidgeot        479           1         75  \n",
       "25     N/A     Raichu        485           1         90  "
      ]
     },
     "execution_count": 257,
     "metadata": {},
     "output_type": "execute_result"
    }
   ],
   "source": [
    "# Drop rows based on defined criteria:\n",
    "fullgen_top_df = fullgen_df[fullgen_df.totalstat >= 450]\n",
    "print(\"Number of Pokemon remaining: \" + str(len(fullgen_top_df)))\n",
    "fullgen_top_df.head()"
   ]
  },
  {
   "cell_type": "code",
   "execution_count": 243,
   "id": "1739e137",
   "metadata": {},
   "outputs": [
    {
     "data": {
      "text/plain": [
       "(507, 12)"
      ]
     },
     "execution_count": 243,
     "metadata": {},
     "output_type": "execute_result"
    }
   ],
   "source": [
    "# Lastly, confirm shape:\n",
    "fullgen_top_df.shape"
   ]
  },
  {
   "cell_type": "markdown",
   "id": "fa4d9de4",
   "metadata": {},
   "source": [
    "## Analytical Visualisations"
   ]
  },
  {
   "cell_type": "code",
   "execution_count": 237,
   "id": "92393d22",
   "metadata": {},
   "outputs": [
    {
     "data": {
      "text/html": [
       "<div>\n",
       "<style scoped>\n",
       "    .dataframe tbody tr th:only-of-type {\n",
       "        vertical-align: middle;\n",
       "    }\n",
       "\n",
       "    .dataframe tbody tr th {\n",
       "        vertical-align: top;\n",
       "    }\n",
       "\n",
       "    .dataframe thead th {\n",
       "        text-align: right;\n",
       "    }\n",
       "</style>\n",
       "<table border=\"1\" class=\"dataframe\">\n",
       "  <thead>\n",
       "    <tr style=\"text-align: right;\">\n",
       "      <th></th>\n",
       "      <th>hp</th>\n",
       "      <th>attack</th>\n",
       "      <th>defense</th>\n",
       "      <th>special-attack</th>\n",
       "      <th>special-defense</th>\n",
       "      <th>speed</th>\n",
       "      <th>totalstat</th>\n",
       "      <th>generation</th>\n",
       "      <th>avg_power</th>\n",
       "    </tr>\n",
       "  </thead>\n",
       "  <tbody>\n",
       "    <tr>\n",
       "      <th>count</th>\n",
       "      <td>507.000000</td>\n",
       "      <td>507.000000</td>\n",
       "      <td>507.000000</td>\n",
       "      <td>507.000000</td>\n",
       "      <td>507.000000</td>\n",
       "      <td>507.000000</td>\n",
       "      <td>507.000000</td>\n",
       "      <td>507.000000</td>\n",
       "      <td>507.000000</td>\n",
       "    </tr>\n",
       "    <tr>\n",
       "      <th>mean</th>\n",
       "      <td>85.266272</td>\n",
       "      <td>95.668639</td>\n",
       "      <td>87.599606</td>\n",
       "      <td>86.757396</td>\n",
       "      <td>85.899408</td>\n",
       "      <td>79.921105</td>\n",
       "      <td>521.112426</td>\n",
       "      <td>5.023669</td>\n",
       "      <td>91.027613</td>\n",
       "    </tr>\n",
       "    <tr>\n",
       "      <th>std</th>\n",
       "      <td>24.893570</td>\n",
       "      <td>26.196443</td>\n",
       "      <td>27.268889</td>\n",
       "      <td>27.989452</td>\n",
       "      <td>24.049598</td>\n",
       "      <td>28.469485</td>\n",
       "      <td>53.965891</td>\n",
       "      <td>2.610300</td>\n",
       "      <td>17.088101</td>\n",
       "    </tr>\n",
       "    <tr>\n",
       "      <th>min</th>\n",
       "      <td>20.000000</td>\n",
       "      <td>5.000000</td>\n",
       "      <td>5.000000</td>\n",
       "      <td>10.000000</td>\n",
       "      <td>20.000000</td>\n",
       "      <td>5.000000</td>\n",
       "      <td>450.000000</td>\n",
       "      <td>1.000000</td>\n",
       "      <td>10.000000</td>\n",
       "    </tr>\n",
       "    <tr>\n",
       "      <th>25%</th>\n",
       "      <td>70.000000</td>\n",
       "      <td>76.000000</td>\n",
       "      <td>70.000000</td>\n",
       "      <td>65.000000</td>\n",
       "      <td>70.000000</td>\n",
       "      <td>60.000000</td>\n",
       "      <td>484.500000</td>\n",
       "      <td>3.000000</td>\n",
       "      <td>80.000000</td>\n",
       "    </tr>\n",
       "    <tr>\n",
       "      <th>50%</th>\n",
       "      <td>80.000000</td>\n",
       "      <td>95.000000</td>\n",
       "      <td>80.000000</td>\n",
       "      <td>85.000000</td>\n",
       "      <td>82.000000</td>\n",
       "      <td>80.000000</td>\n",
       "      <td>505.000000</td>\n",
       "      <td>5.000000</td>\n",
       "      <td>90.000000</td>\n",
       "    </tr>\n",
       "    <tr>\n",
       "      <th>75%</th>\n",
       "      <td>97.000000</td>\n",
       "      <td>115.000000</td>\n",
       "      <td>100.000000</td>\n",
       "      <td>105.000000</td>\n",
       "      <td>100.000000</td>\n",
       "      <td>100.000000</td>\n",
       "      <td>540.000000</td>\n",
       "      <td>7.000000</td>\n",
       "      <td>100.000000</td>\n",
       "    </tr>\n",
       "    <tr>\n",
       "      <th>max</th>\n",
       "      <td>255.000000</td>\n",
       "      <td>181.000000</td>\n",
       "      <td>230.000000</td>\n",
       "      <td>173.000000</td>\n",
       "      <td>230.000000</td>\n",
       "      <td>200.000000</td>\n",
       "      <td>720.000000</td>\n",
       "      <td>9.000000</td>\n",
       "      <td>150.000000</td>\n",
       "    </tr>\n",
       "  </tbody>\n",
       "</table>\n",
       "</div>"
      ],
      "text/plain": [
       "               hp      attack     defense  special-attack  special-defense  \\\n",
       "count  507.000000  507.000000  507.000000      507.000000       507.000000   \n",
       "mean    85.266272   95.668639   87.599606       86.757396        85.899408   \n",
       "std     24.893570   26.196443   27.268889       27.989452        24.049598   \n",
       "min     20.000000    5.000000    5.000000       10.000000        20.000000   \n",
       "25%     70.000000   76.000000   70.000000       65.000000        70.000000   \n",
       "50%     80.000000   95.000000   80.000000       85.000000        82.000000   \n",
       "75%     97.000000  115.000000  100.000000      105.000000       100.000000   \n",
       "max    255.000000  181.000000  230.000000      173.000000       230.000000   \n",
       "\n",
       "            speed   totalstat  generation   avg_power  \n",
       "count  507.000000  507.000000  507.000000  507.000000  \n",
       "mean    79.921105  521.112426    5.023669   91.027613  \n",
       "std     28.469485   53.965891    2.610300   17.088101  \n",
       "min      5.000000  450.000000    1.000000   10.000000  \n",
       "25%     60.000000  484.500000    3.000000   80.000000  \n",
       "50%     80.000000  505.000000    5.000000   90.000000  \n",
       "75%    100.000000  540.000000    7.000000  100.000000  \n",
       "max    200.000000  720.000000    9.000000  150.000000  "
      ]
     },
     "execution_count": 237,
     "metadata": {},
     "output_type": "execute_result"
    }
   ],
   "source": [
    "# Examine Data\n",
    "fullgen_top_df.describe()"
   ]
  },
  {
   "cell_type": "markdown",
   "id": "b9cea72b",
   "metadata": {},
   "source": [
    "#### The numbers are much more consistent now, but there are still clear outliers so it's worth examining them."
   ]
  },
  {
   "cell_type": "code",
   "execution_count": 220,
   "id": "6bb5f9a0",
   "metadata": {
    "scrolled": true
   },
   "outputs": [
    {
     "data": {
      "text/plain": [
       "<Axes: xlabel='hp'>"
      ]
     },
     "execution_count": 220,
     "metadata": {},
     "output_type": "execute_result"
    },
    {
     "data": {
      "image/png": "[encoded data removed]",
      "text/plain": [
       "<Figure size 640x480 with 1 Axes>"
      ]
     },
     "metadata": {},
     "output_type": "display_data"
    }
   ],
   "source": [
    "# Visualise and detect outliers:\n",
    "sns.boxplot(x=fullgen_top_df['hp'])"
   ]
  },
  {
   "cell_type": "code",
   "execution_count": 232,
   "id": "a9e715e9",
   "metadata": {
    "scrolled": true
   },
   "outputs": [
    {
     "name": "stdout",
     "output_type": "stream",
     "text": [
      "Total outliers: 16\n"
     ]
    },
    {
     "data": {
      "text/html": [
       "<div>\n",
       "<style scoped>\n",
       "    .dataframe tbody tr th:only-of-type {\n",
       "        vertical-align: middle;\n",
       "    }\n",
       "\n",
       "    .dataframe tbody tr th {\n",
       "        vertical-align: top;\n",
       "    }\n",
       "\n",
       "    .dataframe thead th {\n",
       "        text-align: right;\n",
       "    }\n",
       "</style>\n",
       "<table border=\"1\" class=\"dataframe\">\n",
       "  <thead>\n",
       "    <tr style=\"text-align: right;\">\n",
       "      <th></th>\n",
       "      <th>hp</th>\n",
       "      <th>attack</th>\n",
       "      <th>defense</th>\n",
       "      <th>special-attack</th>\n",
       "      <th>special-defense</th>\n",
       "      <th>speed</th>\n",
       "      <th>type_1</th>\n",
       "      <th>type_2</th>\n",
       "      <th>Pokemon</th>\n",
       "      <th>totalstat</th>\n",
       "      <th>generation</th>\n",
       "      <th>avg_power</th>\n",
       "    </tr>\n",
       "  </thead>\n",
       "  <tbody>\n",
       "    <tr>\n",
       "      <th>61</th>\n",
       "      <td>20</td>\n",
       "      <td>10</td>\n",
       "      <td>230</td>\n",
       "      <td>10</td>\n",
       "      <td>230</td>\n",
       "      <td>5</td>\n",
       "      <td>Bug</td>\n",
       "      <td>Rock</td>\n",
       "      <td>Shuckle</td>\n",
       "      <td>505</td>\n",
       "      <td>2</td>\n",
       "      <td>10</td>\n",
       "    </tr>\n",
       "    <tr>\n",
       "      <th>45</th>\n",
       "      <td>144</td>\n",
       "      <td>120</td>\n",
       "      <td>60</td>\n",
       "      <td>40</td>\n",
       "      <td>60</td>\n",
       "      <td>50</td>\n",
       "      <td>Fighting</td>\n",
       "      <td>N/A</td>\n",
       "      <td>Hariyama</td>\n",
       "      <td>474</td>\n",
       "      <td>3</td>\n",
       "      <td>80</td>\n",
       "    </tr>\n",
       "    <tr>\n",
       "      <th>37</th>\n",
       "      <td>150</td>\n",
       "      <td>160</td>\n",
       "      <td>100</td>\n",
       "      <td>95</td>\n",
       "      <td>65</td>\n",
       "      <td>100</td>\n",
       "      <td>Normal</td>\n",
       "      <td>N/A</td>\n",
       "      <td>Slaking</td>\n",
       "      <td>670</td>\n",
       "      <td>3</td>\n",
       "      <td>127</td>\n",
       "    </tr>\n",
       "    <tr>\n",
       "      <th>39</th>\n",
       "      <td>150</td>\n",
       "      <td>80</td>\n",
       "      <td>44</td>\n",
       "      <td>90</td>\n",
       "      <td>54</td>\n",
       "      <td>80</td>\n",
       "      <td>Ghost</td>\n",
       "      <td>Flying</td>\n",
       "      <td>Drifblim</td>\n",
       "      <td>498</td>\n",
       "      <td>4</td>\n",
       "      <td>85</td>\n",
       "    </tr>\n",
       "    <tr>\n",
       "      <th>100</th>\n",
       "      <td>150</td>\n",
       "      <td>100</td>\n",
       "      <td>120</td>\n",
       "      <td>100</td>\n",
       "      <td>120</td>\n",
       "      <td>90</td>\n",
       "      <td>Ghost</td>\n",
       "      <td>Dragon</td>\n",
       "      <td>Giratina-Altered</td>\n",
       "      <td>680</td>\n",
       "      <td>4</td>\n",
       "      <td>100</td>\n",
       "    </tr>\n",
       "    <tr>\n",
       "      <th>71</th>\n",
       "      <td>150</td>\n",
       "      <td>100</td>\n",
       "      <td>115</td>\n",
       "      <td>65</td>\n",
       "      <td>65</td>\n",
       "      <td>35</td>\n",
       "      <td>Water</td>\n",
       "      <td>N/A</td>\n",
       "      <td>Dondozo</td>\n",
       "      <td>530</td>\n",
       "      <td>9</td>\n",
       "      <td>82</td>\n",
       "    </tr>\n",
       "    <tr>\n",
       "      <th>86</th>\n",
       "      <td>154</td>\n",
       "      <td>140</td>\n",
       "      <td>108</td>\n",
       "      <td>50</td>\n",
       "      <td>68</td>\n",
       "      <td>50</td>\n",
       "      <td>Fighting</td>\n",
       "      <td>Electric</td>\n",
       "      <td>Iron-Hands</td>\n",
       "      <td>570</td>\n",
       "      <td>9</td>\n",
       "      <td>95</td>\n",
       "    </tr>\n",
       "    <tr>\n",
       "      <th>97</th>\n",
       "      <td>155</td>\n",
       "      <td>110</td>\n",
       "      <td>125</td>\n",
       "      <td>55</td>\n",
       "      <td>80</td>\n",
       "      <td>45</td>\n",
       "      <td>Dark</td>\n",
       "      <td>Ground</td>\n",
       "      <td>Ting-Lu</td>\n",
       "      <td>570</td>\n",
       "      <td>9</td>\n",
       "      <td>82</td>\n",
       "    </tr>\n",
       "    <tr>\n",
       "      <th>142</th>\n",
       "      <td>160</td>\n",
       "      <td>110</td>\n",
       "      <td>65</td>\n",
       "      <td>65</td>\n",
       "      <td>110</td>\n",
       "      <td>30</td>\n",
       "      <td>Normal</td>\n",
       "      <td>N/A</td>\n",
       "      <td>Snorlax</td>\n",
       "      <td>540</td>\n",
       "      <td>1</td>\n",
       "      <td>87</td>\n",
       "    </tr>\n",
       "    <tr>\n",
       "      <th>100</th>\n",
       "      <td>165</td>\n",
       "      <td>75</td>\n",
       "      <td>80</td>\n",
       "      <td>40</td>\n",
       "      <td>45</td>\n",
       "      <td>65</td>\n",
       "      <td>Water</td>\n",
       "      <td>N/A</td>\n",
       "      <td>Alomomola</td>\n",
       "      <td>470</td>\n",
       "      <td>5</td>\n",
       "      <td>57</td>\n",
       "    </tr>\n",
       "    <tr>\n",
       "      <th>69</th>\n",
       "      <td>170</td>\n",
       "      <td>90</td>\n",
       "      <td>45</td>\n",
       "      <td>90</td>\n",
       "      <td>45</td>\n",
       "      <td>60</td>\n",
       "      <td>Water</td>\n",
       "      <td>N/A</td>\n",
       "      <td>Wailord</td>\n",
       "      <td>500</td>\n",
       "      <td>3</td>\n",
       "      <td>90</td>\n",
       "    </tr>\n",
       "    <tr>\n",
       "      <th>69</th>\n",
       "      <td>170</td>\n",
       "      <td>113</td>\n",
       "      <td>65</td>\n",
       "      <td>45</td>\n",
       "      <td>55</td>\n",
       "      <td>73</td>\n",
       "      <td>Ice</td>\n",
       "      <td>N/A</td>\n",
       "      <td>Cetitan</td>\n",
       "      <td>521</td>\n",
       "      <td>9</td>\n",
       "      <td>79</td>\n",
       "    </tr>\n",
       "    <tr>\n",
       "      <th>85</th>\n",
       "      <td>200</td>\n",
       "      <td>100</td>\n",
       "      <td>50</td>\n",
       "      <td>100</td>\n",
       "      <td>50</td>\n",
       "      <td>80</td>\n",
       "      <td>Dragon</td>\n",
       "      <td>N/A</td>\n",
       "      <td>Regidrago</td>\n",
       "      <td>580</td>\n",
       "      <td>8</td>\n",
       "      <td>100</td>\n",
       "    </tr>\n",
       "    <tr>\n",
       "      <th>77</th>\n",
       "      <td>223</td>\n",
       "      <td>101</td>\n",
       "      <td>53</td>\n",
       "      <td>97</td>\n",
       "      <td>53</td>\n",
       "      <td>43</td>\n",
       "      <td>Dark</td>\n",
       "      <td>Dragon</td>\n",
       "      <td>Guzzlord</td>\n",
       "      <td>570</td>\n",
       "      <td>7</td>\n",
       "      <td>99</td>\n",
       "    </tr>\n",
       "    <tr>\n",
       "      <th>112</th>\n",
       "      <td>250</td>\n",
       "      <td>5</td>\n",
       "      <td>5</td>\n",
       "      <td>35</td>\n",
       "      <td>105</td>\n",
       "      <td>50</td>\n",
       "      <td>Normal</td>\n",
       "      <td>N/A</td>\n",
       "      <td>Chansey</td>\n",
       "      <td>450</td>\n",
       "      <td>1</td>\n",
       "      <td>20</td>\n",
       "    </tr>\n",
       "    <tr>\n",
       "      <th>90</th>\n",
       "      <td>255</td>\n",
       "      <td>10</td>\n",
       "      <td>10</td>\n",
       "      <td>75</td>\n",
       "      <td>135</td>\n",
       "      <td>55</td>\n",
       "      <td>Normal</td>\n",
       "      <td>N/A</td>\n",
       "      <td>Blissey</td>\n",
       "      <td>540</td>\n",
       "      <td>2</td>\n",
       "      <td>42</td>\n",
       "    </tr>\n",
       "  </tbody>\n",
       "</table>\n",
       "</div>"
      ],
      "text/plain": [
       "      hp  attack  defense  special-attack  special-defense  speed    type_1  \\\n",
       "61    20      10      230              10              230      5       Bug   \n",
       "45   144     120       60              40               60     50  Fighting   \n",
       "37   150     160      100              95               65    100    Normal   \n",
       "39   150      80       44              90               54     80     Ghost   \n",
       "100  150     100      120             100              120     90     Ghost   \n",
       "71   150     100      115              65               65     35     Water   \n",
       "86   154     140      108              50               68     50  Fighting   \n",
       "97   155     110      125              55               80     45      Dark   \n",
       "142  160     110       65              65              110     30    Normal   \n",
       "100  165      75       80              40               45     65     Water   \n",
       "69   170      90       45              90               45     60     Water   \n",
       "69   170     113       65              45               55     73       Ice   \n",
       "85   200     100       50             100               50     80    Dragon   \n",
       "77   223     101       53              97               53     43      Dark   \n",
       "112  250       5        5              35              105     50    Normal   \n",
       "90   255      10       10              75              135     55    Normal   \n",
       "\n",
       "       type_2           Pokemon  totalstat  generation  avg_power  \n",
       "61       Rock           Shuckle        505           2         10  \n",
       "45        N/A          Hariyama        474           3         80  \n",
       "37        N/A           Slaking        670           3        127  \n",
       "39     Flying          Drifblim        498           4         85  \n",
       "100    Dragon  Giratina-Altered        680           4        100  \n",
       "71        N/A           Dondozo        530           9         82  \n",
       "86   Electric        Iron-Hands        570           9         95  \n",
       "97     Ground           Ting-Lu        570           9         82  \n",
       "142       N/A           Snorlax        540           1         87  \n",
       "100       N/A         Alomomola        470           5         57  \n",
       "69        N/A           Wailord        500           3         90  \n",
       "69        N/A           Cetitan        521           9         79  \n",
       "85        N/A         Regidrago        580           8        100  \n",
       "77     Dragon          Guzzlord        570           7         99  \n",
       "112       N/A           Chansey        450           1         20  \n",
       "90        N/A           Blissey        540           2         42  "
      ]
     },
     "execution_count": 232,
     "metadata": {},
     "output_type": "execute_result"
    }
   ],
   "source": [
    "# List all outliers, also showing those above Q3 to demonstrate knowledge:\n",
    "print(\"Total outliers: \" + str(len(fullgen_top_df.loc[(fullgen_top_df['hp'] < 40) | (fullgen_top_df['hp'] > 140)])))\n",
    "fullgen_top_df.loc[(fullgen_top_df['hp'] < 40) | (fullgen_top_df['hp'] > 140)].sort_values(by=['hp']).head(16)"
   ]
  },
  {
   "cell_type": "markdown",
   "id": "9ca7039f",
   "metadata": {},
   "source": [
    "#### At a glance, Shuckle (first row) looks like its HP is statistically very weak while also boasting low attack and special-attack, but its defense and special-defense values are high and its totalstat value is decently high as well.\n",
    "\n",
    "#### We also have a few especially high HP values in this group, but if the assumption is that high stats = good then they are probably fine where they are. Chansey (second last row) being right at the 450 totalstat cutoff with the other values it has could mean that it could either be \"good\" for our purposes or \"bad\", but we do not know how significant HP is toward determining whether a creature is useful.\n",
    "\n",
    "#### Either way, this would have to be examined further via a model."
   ]
  },
  {
   "cell_type": "code",
   "execution_count": 223,
   "id": "1aad4db9",
   "metadata": {
    "scrolled": true
   },
   "outputs": [
    {
     "data": {
      "text/plain": [
       "<Axes: xlabel='attack'>"
      ]
     },
     "execution_count": 223,
     "metadata": {},
     "output_type": "execute_result"
    },
    {
     "data": {
      "image/png": "[encoded data removed]",
      "text/plain": [
       "<Figure size 640x480 with 1 Axes>"
      ]
     },
     "metadata": {},
     "output_type": "display_data"
    }
   ],
   "source": [
    "# More plotting:\n",
    "sns.boxplot(x=fullgen_top_df['attack'])"
   ]
  },
  {
   "cell_type": "code",
   "execution_count": 233,
   "id": "623fe162",
   "metadata": {},
   "outputs": [
    {
     "data": {
      "text/plain": [
       "<Axes: xlabel='defense'>"
      ]
     },
     "execution_count": 233,
     "metadata": {},
     "output_type": "execute_result"
    },
    {
     "data": {
      "image/png": "[encoded data removed]",
      "text/plain": [
       "<Figure size 640x480 with 1 Axes>"
      ]
     },
     "metadata": {},
     "output_type": "display_data"
    }
   ],
   "source": [
    "sns.boxplot(x=fullgen_top_df['defense'])"
   ]
  },
  {
   "cell_type": "code",
   "execution_count": 234,
   "id": "495a3fa6",
   "metadata": {},
   "outputs": [
    {
     "data": {
      "text/plain": [
       "<Axes: xlabel='special-attack'>"
      ]
     },
     "execution_count": 234,
     "metadata": {},
     "output_type": "execute_result"
    },
    {
     "data": {
      "image/png": "[encoded data removed]",
      "text/plain": [
       "<Figure size 640x480 with 1 Axes>"
      ]
     },
     "metadata": {},
     "output_type": "display_data"
    }
   ],
   "source": [
    "sns.boxplot(x=fullgen_top_df['special-attack'])"
   ]
  },
  {
   "cell_type": "code",
   "execution_count": 235,
   "id": "ef4c92ad",
   "metadata": {},
   "outputs": [
    {
     "data": {
      "text/plain": [
       "<Axes: xlabel='special-defense'>"
      ]
     },
     "execution_count": 235,
     "metadata": {},
     "output_type": "execute_result"
    },
    {
     "data": {
      "image/png": "[encoded data removed]",
      "text/plain": [
       "<Figure size 640x480 with 1 Axes>"
      ]
     },
     "metadata": {},
     "output_type": "display_data"
    }
   ],
   "source": [
    "sns.boxplot(x=fullgen_top_df['special-defense'])"
   ]
  },
  {
   "cell_type": "code",
   "execution_count": 236,
   "id": "39969104",
   "metadata": {},
   "outputs": [
    {
     "data": {
      "text/plain": [
       "<Axes: xlabel='speed'>"
      ]
     },
     "execution_count": 236,
     "metadata": {},
     "output_type": "execute_result"
    },
    {
     "data": {
      "image/png": "[encoded data removed]",
      "text/plain": [
       "<Figure size 640x480 with 1 Axes>"
      ]
     },
     "metadata": {},
     "output_type": "display_data"
    }
   ],
   "source": [
    "sns.boxplot(x=fullgen_top_df['speed'])"
   ]
  },
  {
   "cell_type": "markdown",
   "id": "308220e2",
   "metadata": {},
   "source": [
    "#### Note that special-attack and speed have no outliers below what the box plot determines is normal variability, while the remaining stats have few."
   ]
  },
  {
   "cell_type": "code",
   "execution_count": 262,
   "id": "169611d2",
   "metadata": {},
   "outputs": [
    {
     "data": {
      "text/html": [
       "<div>\n",
       "<style scoped>\n",
       "    .dataframe tbody tr th:only-of-type {\n",
       "        vertical-align: middle;\n",
       "    }\n",
       "\n",
       "    .dataframe tbody tr th {\n",
       "        vertical-align: top;\n",
       "    }\n",
       "\n",
       "    .dataframe thead th {\n",
       "        text-align: right;\n",
       "    }\n",
       "</style>\n",
       "<table border=\"1\" class=\"dataframe\">\n",
       "  <thead>\n",
       "    <tr style=\"text-align: right;\">\n",
       "      <th></th>\n",
       "      <th>hp</th>\n",
       "      <th>attack</th>\n",
       "      <th>defense</th>\n",
       "      <th>special-attack</th>\n",
       "      <th>special-defense</th>\n",
       "      <th>speed</th>\n",
       "      <th>type_1</th>\n",
       "      <th>type_2</th>\n",
       "      <th>Pokemon</th>\n",
       "      <th>totalstat</th>\n",
       "      <th>generation</th>\n",
       "      <th>avg_power</th>\n",
       "    </tr>\n",
       "  </thead>\n",
       "  <tbody>\n",
       "    <tr>\n",
       "      <th>61</th>\n",
       "      <td>20</td>\n",
       "      <td>10</td>\n",
       "      <td>230</td>\n",
       "      <td>10</td>\n",
       "      <td>230</td>\n",
       "      <td>5</td>\n",
       "      <td>Bug</td>\n",
       "      <td>Rock</td>\n",
       "      <td>Shuckle</td>\n",
       "      <td>505</td>\n",
       "      <td>2</td>\n",
       "      <td>10</td>\n",
       "    </tr>\n",
       "    <tr>\n",
       "      <th>64</th>\n",
       "      <td>100</td>\n",
       "      <td>125</td>\n",
       "      <td>135</td>\n",
       "      <td>20</td>\n",
       "      <td>20</td>\n",
       "      <td>70</td>\n",
       "      <td>Rock</td>\n",
       "      <td>N/A</td>\n",
       "      <td>Stonjourner</td>\n",
       "      <td>470</td>\n",
       "      <td>8</td>\n",
       "      <td>72</td>\n",
       "    </tr>\n",
       "    <tr>\n",
       "      <th>112</th>\n",
       "      <td>250</td>\n",
       "      <td>5</td>\n",
       "      <td>5</td>\n",
       "      <td>35</td>\n",
       "      <td>105</td>\n",
       "      <td>50</td>\n",
       "      <td>Normal</td>\n",
       "      <td>N/A</td>\n",
       "      <td>Chansey</td>\n",
       "      <td>450</td>\n",
       "      <td>1</td>\n",
       "      <td>20</td>\n",
       "    </tr>\n",
       "    <tr>\n",
       "      <th>90</th>\n",
       "      <td>255</td>\n",
       "      <td>10</td>\n",
       "      <td>10</td>\n",
       "      <td>75</td>\n",
       "      <td>135</td>\n",
       "      <td>55</td>\n",
       "      <td>Normal</td>\n",
       "      <td>N/A</td>\n",
       "      <td>Blissey</td>\n",
       "      <td>540</td>\n",
       "      <td>2</td>\n",
       "      <td>42</td>\n",
       "    </tr>\n",
       "  </tbody>\n",
       "</table>\n",
       "</div>"
      ],
      "text/plain": [
       "      hp  attack  defense  special-attack  special-defense  speed  type_1  \\\n",
       "61    20      10      230              10              230      5     Bug   \n",
       "64   100     125      135              20               20     70    Rock   \n",
       "112  250       5        5              35              105     50  Normal   \n",
       "90   255      10       10              75              135     55  Normal   \n",
       "\n",
       "    type_2      Pokemon  totalstat  generation  avg_power  \n",
       "61    Rock      Shuckle        505           2         10  \n",
       "64     N/A  Stonjourner        470           8         72  \n",
       "112    N/A      Chansey        450           1         20  \n",
       "90     N/A      Blissey        540           2         42  "
      ]
     },
     "execution_count": 262,
     "metadata": {},
     "output_type": "execute_result"
    }
   ],
   "source": [
    "# Bottom outliers for the remaining three stats:\n",
    "fullgen_top_df.loc[(fullgen_top_df['attack'] < 25) | (fullgen_top_df['defense'] < 25) | (fullgen_top_df['special-defense'] < 25)].sort_values(by=['hp']).head(16)"
   ]
  },
  {
   "cell_type": "markdown",
   "id": "7fdfa93d",
   "metadata": {},
   "source": [
    "#### Taking a quick look, we have two unique values for attack, two for defence, and one for special-defence. There being overlap with some Pokemon being outliers in multiple categories means we have fewer than five total entries in this list, and two of them were already discussed in the HP section. The best course of action, for now, is still to retain them but we can remove their records from the DataFrame if it becomes necessary to do so."
   ]
  },
  {
   "cell_type": "code",
   "execution_count": 268,
   "id": "f50f80f4",
   "metadata": {},
   "outputs": [
    {
     "data": {
      "text/plain": [
       "<seaborn.axisgrid.FacetGrid at 0x1da4ce17e20>"
      ]
     },
     "execution_count": 268,
     "metadata": {},
     "output_type": "execute_result"
    },
    {
     "data": {
      "image/png": "[encoded data removed]",
      "text/plain": [
       "<Figure size 500x500 with 1 Axes>"
      ]
     },
     "metadata": {},
     "output_type": "display_data"
    },
    {
     "data": {
      "image/png": "[encoded data removed]",
      "text/plain": [
       "<Figure size 500x500 with 1 Axes>"
      ]
     },
     "metadata": {},
     "output_type": "display_data"
    },
    {
     "data": {
      "image/png": "[encoded data removed]",
      "text/plain": [
       "<Figure size 500x500 with 1 Axes>"
      ]
     },
     "metadata": {},
     "output_type": "display_data"
    },
    {
     "data": {
      "image/png": "[encoded data removed]",
      "text/plain": [
       "<Figure size 500x500 with 1 Axes>"
      ]
     },
     "metadata": {},
     "output_type": "display_data"
    },
    {
     "data": {
      "image/png": "[encoded data removed]",
      "text/plain": [
       "<Figure size 500x500 with 1 Axes>"
      ]
     },
     "metadata": {},
     "output_type": "display_data"
    },
    {
     "data": {
      "image/png": "[encoded data removed]",
      "text/plain": [
       "<Figure size 500x500 with 1 Axes>"
      ]
     },
     "metadata": {},
     "output_type": "display_data"
    }
   ],
   "source": [
    "# Let's do one final series of graphs before exporting our data:\n",
    "sns.relplot(x='hp', y='totalstat', data=fullgen_top_df)\n",
    "sns.relplot(x='attack', y='totalstat', data=fullgen_top_df)\n",
    "sns.relplot(x='defense', y='totalstat', data=fullgen_top_df)\n",
    "sns.relplot(x='special-attack', y='totalstat', data=fullgen_top_df)\n",
    "sns.relplot(x='special-defense', y='totalstat', data=fullgen_top_df)\n",
    "sns.relplot(x='speed', y='totalstat', data=fullgen_top_df)"
   ]
  },
  {
   "cell_type": "code",
   "execution_count": 270,
   "id": "50fcbdeb",
   "metadata": {},
   "outputs": [
    {
     "data": {
      "text/plain": [
       "<seaborn.axisgrid.FacetGrid at 0x1da4d016140>"
      ]
     },
     "execution_count": 270,
     "metadata": {},
     "output_type": "execute_result"
    },
    {
     "data": {
      "image/png": "[encoded data removed]",
      "text/plain": [
       "<Figure size 500x500 with 1 Axes>"
      ]
     },
     "metadata": {},
     "output_type": "display_data"
    }
   ],
   "source": [
    "# May as well try out the new \"avg_power\" rating too:\n",
    "sns.relplot(x='avg_power', y='totalstat', data=fullgen_top_df)"
   ]
  },
  {
   "cell_type": "markdown",
   "id": "da14bd00",
   "metadata": {},
   "source": [
    "## Export to new CSV Files"
   ]
  },
  {
   "cell_type": "code",
   "execution_count": 275,
   "id": "09ddc0b5",
   "metadata": {},
   "outputs": [],
   "source": [
    "# Put revised data into new CSV files:\n",
    "fullgen_top_df.to_csv('../data/fullgen_tophalf_pokemon.csv', index=False) # Stripped for highest stats\n",
    "fullgen_df.to_csv('../data/fullgen_cleaned_pokemon.csv', index=False) # ALl Pokemon"
   ]
  }
 ],
 "metadata": {
  "kernelspec": {
   "display_name": "Python 3 (ipykernel)",
   "language": "python",
   "name": "python3"
  },
  "language_info": {
   "codemirror_mode": {
    "name": "ipython",
    "version": 3
   },
   "file_extension": ".py",
   "mimetype": "text/x-python",
   "name": "python",
   "nbconvert_exporter": "python",
   "pygments_lexer": "ipython3",
   "version": "3.10.9"
  }
 },
 "nbformat": 4,
 "nbformat_minor": 5
}
