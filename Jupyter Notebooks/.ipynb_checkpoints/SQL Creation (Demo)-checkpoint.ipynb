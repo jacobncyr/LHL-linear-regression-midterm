{
 "cells": [
  {
   "cell_type": "code",
   "execution_count": 2,
   "id": "d91248c3",
   "metadata": {},
   "outputs": [],
   "source": [
    "# Libraries\n",
    "import os\n",
    "import pandas as pd\n",
    "import csv\n",
    "\n",
    "#SQL\n",
    "import sqlite3\n",
    "from sqlite3 import Error"
   ]
  },
  {
   "cell_type": "code",
   "execution_count": 3,
   "id": "53f46bf3",
   "metadata": {},
   "outputs": [
    {
     "data": {
      "text/html": [
       "<div>\n",
       "<style scoped>\n",
       "    .dataframe tbody tr th:only-of-type {\n",
       "        vertical-align: middle;\n",
       "    }\n",
       "\n",
       "    .dataframe tbody tr th {\n",
       "        vertical-align: top;\n",
       "    }\n",
       "\n",
       "    .dataframe thead th {\n",
       "        text-align: right;\n",
       "    }\n",
       "</style>\n",
       "<table border=\"1\" class=\"dataframe\">\n",
       "  <thead>\n",
       "    <tr style=\"text-align: right;\">\n",
       "      <th></th>\n",
       "      <th>hp</th>\n",
       "      <th>attack</th>\n",
       "      <th>defense</th>\n",
       "      <th>special-attack</th>\n",
       "      <th>special-defense</th>\n",
       "      <th>speed</th>\n",
       "      <th>type_1</th>\n",
       "      <th>type_2</th>\n",
       "      <th>Pokemon</th>\n",
       "      <th>totalstat</th>\n",
       "      <th>generation</th>\n",
       "      <th>avg_power</th>\n",
       "    </tr>\n",
       "    <tr>\n",
       "      <th>id</th>\n",
       "      <th></th>\n",
       "      <th></th>\n",
       "      <th></th>\n",
       "      <th></th>\n",
       "      <th></th>\n",
       "      <th></th>\n",
       "      <th></th>\n",
       "      <th></th>\n",
       "      <th></th>\n",
       "      <th></th>\n",
       "      <th></th>\n",
       "      <th></th>\n",
       "    </tr>\n",
       "  </thead>\n",
       "  <tbody>\n",
       "    <tr>\n",
       "      <th>0</th>\n",
       "      <td>80</td>\n",
       "      <td>82</td>\n",
       "      <td>83</td>\n",
       "      <td>100</td>\n",
       "      <td>100</td>\n",
       "      <td>80</td>\n",
       "      <td>Grass</td>\n",
       "      <td>Poison</td>\n",
       "      <td>Venusaur</td>\n",
       "      <td>525</td>\n",
       "      <td>1</td>\n",
       "      <td>91</td>\n",
       "    </tr>\n",
       "    <tr>\n",
       "      <th>1</th>\n",
       "      <td>78</td>\n",
       "      <td>84</td>\n",
       "      <td>78</td>\n",
       "      <td>109</td>\n",
       "      <td>85</td>\n",
       "      <td>100</td>\n",
       "      <td>Fire</td>\n",
       "      <td>Flying</td>\n",
       "      <td>Charizard</td>\n",
       "      <td>534</td>\n",
       "      <td>1</td>\n",
       "      <td>96</td>\n",
       "    </tr>\n",
       "    <tr>\n",
       "      <th>2</th>\n",
       "      <td>79</td>\n",
       "      <td>83</td>\n",
       "      <td>100</td>\n",
       "      <td>85</td>\n",
       "      <td>105</td>\n",
       "      <td>78</td>\n",
       "      <td>Water</td>\n",
       "      <td>NaN</td>\n",
       "      <td>Blastoise</td>\n",
       "      <td>530</td>\n",
       "      <td>1</td>\n",
       "      <td>84</td>\n",
       "    </tr>\n",
       "    <tr>\n",
       "      <th>3</th>\n",
       "      <td>83</td>\n",
       "      <td>80</td>\n",
       "      <td>75</td>\n",
       "      <td>70</td>\n",
       "      <td>70</td>\n",
       "      <td>101</td>\n",
       "      <td>Normal</td>\n",
       "      <td>Flying</td>\n",
       "      <td>Pidgeot</td>\n",
       "      <td>479</td>\n",
       "      <td>1</td>\n",
       "      <td>75</td>\n",
       "    </tr>\n",
       "    <tr>\n",
       "      <th>4</th>\n",
       "      <td>60</td>\n",
       "      <td>90</td>\n",
       "      <td>55</td>\n",
       "      <td>90</td>\n",
       "      <td>80</td>\n",
       "      <td>110</td>\n",
       "      <td>Electric</td>\n",
       "      <td>NaN</td>\n",
       "      <td>Raichu</td>\n",
       "      <td>485</td>\n",
       "      <td>1</td>\n",
       "      <td>90</td>\n",
       "    </tr>\n",
       "  </tbody>\n",
       "</table>\n",
       "</div>"
      ],
      "text/plain": [
       "    hp  attack  defense  special-attack  special-defense  speed    type_1  \\\n",
       "id                                                                          \n",
       "0   80      82       83             100              100     80     Grass   \n",
       "1   78      84       78             109               85    100      Fire   \n",
       "2   79      83      100              85              105     78     Water   \n",
       "3   83      80       75              70               70    101    Normal   \n",
       "4   60      90       55              90               80    110  Electric   \n",
       "\n",
       "    type_2    Pokemon  totalstat  generation  avg_power  \n",
       "id                                                       \n",
       "0   Poison   Venusaur        525           1         91  \n",
       "1   Flying  Charizard        534           1         96  \n",
       "2      NaN  Blastoise        530           1         84  \n",
       "3   Flying    Pidgeot        479           1         75  \n",
       "4      NaN     Raichu        485           1         90  "
      ]
     },
     "execution_count": 3,
     "metadata": {},
     "output_type": "execute_result"
    }
   ],
   "source": [
    "# Load CSV:\n",
    "poke_df = pd.read_csv('../data/fullgen_tophalf_pokemon.csv')\n",
    "poke_df.index.name='id'\n",
    "poke_df.head()"
   ]
  },
  {
   "cell_type": "code",
   "execution_count": 8,
   "id": "0ee5b70e",
   "metadata": {},
   "outputs": [
    {
     "name": "stdout",
     "output_type": "stream",
     "text": [
      "Connection to SQLite DB successful\n"
     ]
    }
   ],
   "source": [
    "connection = create_connection(\"../data/project.sqlite\")\n",
    "cursor = connection.cursor()"
   ]
  },
  {
   "cell_type": "code",
   "execution_count": 10,
   "id": "8d8d3257",
   "metadata": {},
   "outputs": [],
   "source": [
    "# Setup standard functions:\n",
    "def create_connection(path):\n",
    "    connection = None\n",
    "    try:\n",
    "        connection = sqlite3.connect(path)\n",
    "        print(\"Connection to SQLite DB successful\")\n",
    "    except Error as e:\n",
    "        print(f\"The error '{e}' occurred\")\n",
    "\n",
    "    return connection\n",
    "\n",
    "def execute_query(connection, query):\n",
    "    cursor = connection.cursor()\n",
    "    try:\n",
    "        cursor.execute(query)\n",
    "        connection.commit()\n",
    "        print(\"Query executed successfully\")\n",
    "    except Error as e:\n",
    "        print(f\"The error '{e}' occurred\")\n",
    "        \n",
    "def execute_read_query(connection, query):\n",
    "    cursor = connection.cursor()\n",
    "    result = None\n",
    "    try:\n",
    "        cursor.execute(query)\n",
    "        result = cursor.fetchall()\n",
    "        return result\n",
    "    except Error as e:\n",
    "        print(f\"The error '{e}' occurred\")"
   ]
  },
  {
   "cell_type": "code",
   "execution_count": 11,
   "id": "70b03d34",
   "metadata": {},
   "outputs": [
    {
     "name": "stdout",
     "output_type": "stream",
     "text": [
      "Query executed successfully\n",
      "Query executed successfully\n"
     ]
    }
   ],
   "source": [
    "drop_pokemon_table = \"\"\"\n",
    "DROP TABLE IF EXISTS pokemon_gen1\n",
    ";\"\"\"\n",
    "\n",
    "create_pokemon_table = \"\"\"\n",
    "CREATE TABLE IF NOT EXISTS pokemon_gen1 (\n",
    "  id INTEGER PRIMARY KEY AUTOINCREMENT,\n",
    "  hp INTEGER,\n",
    "  attack INTEGER,\n",
    "  defence INTEGER,\n",
    "  special_attack INTEGER,\n",
    "  special_defence INTEGER,\n",
    "  speed INTEGER,\n",
    "  type_1 TEXT,\n",
    "  type_2 TEXT,\n",
    "  name TEXT,\n",
    "  totalstat INTEGER\n",
    ");\n",
    "\"\"\"\n",
    "execute_query(connection, drop_pokemon_table)\n",
    "execute_query(connection, create_pokemon_table)"
   ]
  },
  {
   "cell_type": "code",
   "execution_count": 12,
   "id": "62cf9ced",
   "metadata": {},
   "outputs": [
    {
     "data": {
      "text/plain": [
       "507"
      ]
     },
     "execution_count": 12,
     "metadata": {},
     "output_type": "execute_result"
    }
   ],
   "source": [
    "poke_df.to_sql('top_pokemon', con=connection, if_exists='replace', index=True, index_label=None)"
   ]
  },
  {
   "cell_type": "code",
   "execution_count": 13,
   "id": "7ff0c278",
   "metadata": {},
   "outputs": [
    {
     "data": {
      "text/plain": [
       "[(0, 80, 82, 83, 100, 100, 80, 'Grass', 'Poison', 'Venusaur', 525, 1, 91),\n",
       " (1, 78, 84, 78, 109, 85, 100, 'Fire', 'Flying', 'Charizard', 534, 1, 96),\n",
       " (2, 79, 83, 100, 85, 105, 78, 'Water', None, 'Blastoise', 530, 1, 84),\n",
       " (3, 83, 80, 75, 70, 70, 101, 'Normal', 'Flying', 'Pidgeot', 479, 1, 75),\n",
       " (4, 60, 90, 55, 90, 80, 110, 'Electric', None, 'Raichu', 485, 1, 90)]"
      ]
     },
     "execution_count": 13,
     "metadata": {},
     "output_type": "execute_result"
    }
   ],
   "source": [
    "select_all = \"SELECT * FROM top_pokemon LIMIT 5\"\n",
    "execute_read_query(connection, select_all)"
   ]
  }
 ],
 "metadata": {
  "kernelspec": {
   "display_name": "Python 3 (ipykernel)",
   "language": "python",
   "name": "python3"
  },
  "language_info": {
   "codemirror_mode": {
    "name": "ipython",
    "version": 3
   },
   "file_extension": ".py",
   "mimetype": "text/x-python",
   "name": "python",
   "nbconvert_exporter": "python",
   "pygments_lexer": "ipython3",
   "version": "3.10.9"
  }
 },
 "nbformat": 4,
 "nbformat_minor": 5
}
