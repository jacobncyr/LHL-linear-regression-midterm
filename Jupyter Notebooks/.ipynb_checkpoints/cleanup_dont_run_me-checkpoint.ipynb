{
 "cells": [
  {
   "cell_type": "code",
   "execution_count": 11,
   "id": "9c3f4ee0",
   "metadata": {},
   "outputs": [],
   "source": [
    "import os\n",
    "import pandas as pd\n",
    "\n",
    "# Directory where the CSV files are located\n",
    "directory = \"../data\"\n",
    "\n",
    "# List all CSV files in the directory\n",
    "csv_files = [file for file in os.listdir(directory) if file.endswith('_stats.csv')]\n",
    "\n",
    "# Sort the CSV files in alphabetical order\n",
    "csv_files.sort()\n",
    "\n",
    "# Initialize an empty DataFrame to store the combined data\n",
    "combined_data = pd.DataFrame()\n",
    "\n",
    "# Iterate through the CSV files\n",
    "for index, file in enumerate(csv_files):\n",
    "    file_path = os.path.join(directory, file)\n",
    "    \n",
    "    # Read the CSV file\n",
    "    data = pd.read_csv(file_path)\n",
    "    \n",
    "    # Remove the header from all files except the first one\n",
    "    if index > 0:\n",
    "        data = data[1:]\n",
    "    \n",
    "    # Append the data to the combined DataFrame\n",
    "    combined_data = combined_data._append(data)\n",
    "\n",
    "# Write the combined data to a new CSV file\n",
    "combined_data.to_csv(os.path.join(directory, 'pokemon.csv'), index=False)\n"
   ]
  },
  {
   "cell_type": "code",
   "execution_count": 15,
   "id": "cfc3c433",
   "metadata": {},
   "outputs": [],
   "source": [
    "import pandas as pd\n",
    "\n",
    "# Read the CSV file into a DataFrame\n",
    "df = pd.read_csv('../data/pokemon.csv')\n",
    "\n",
    "# Calculate the new \"total_stats\" column\n",
    "df['total_stats'] = df.iloc[:, 0:6].sum(axis=1)\n",
    "\n",
    "# Drop the original \"totalstat\" column\n",
    "df = df.drop('totalstat', axis=1)\n",
    "\n",
    "# Save the updated DataFrame to a new CSV file\n",
    "df.to_csv('../data/finalpokemon.csv', index=False)\n",
    "\n"
   ]
  },
  {
   "cell_type": "code",
   "execution_count": null,
   "id": "daac3f86",
   "metadata": {},
   "outputs": [],
   "source": []
  }
 ],
 "metadata": {
  "kernelspec": {
   "display_name": "Python 3 (ipykernel)",
   "language": "python",
   "name": "python3"
  },
  "language_info": {
   "codemirror_mode": {
    "name": "ipython",
    "version": 3
   },
   "file_extension": ".py",
   "mimetype": "text/x-python",
   "name": "python",
   "nbconvert_exporter": "python",
   "pygments_lexer": "ipython3",
   "version": "3.10.9"
  }
 },
 "nbformat": 4,
 "nbformat_minor": 5
}
